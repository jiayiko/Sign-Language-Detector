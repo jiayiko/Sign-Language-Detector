{
 "cells": [
  {
   "cell_type": "code",
   "execution_count": 1,
   "id": "3bed8542",
   "metadata": {},
   "outputs": [
    {
     "name": "stdout",
     "output_type": "stream",
     "text": [
      "Requirement already satisfied: daal==2021.4.0 in c:\\users\\squiwing 123\\anaconda3\\envs\\py38\\lib\\site-packages (2021.4.0)\n",
      "Requirement already satisfied: requests_mock in c:\\users\\squiwing 123\\anaconda3\\envs\\py38\\lib\\site-packages (1.11.0)\n",
      "Requirement already satisfied: numpy==1.22 in c:\\users\\squiwing 123\\anaconda3\\envs\\py38\\lib\\site-packages (1.22.0)\n",
      "Requirement already satisfied: clyent==1.2.1 in c:\\users\\squiwing 123\\anaconda3\\envs\\py38\\lib\\site-packages (1.2.1)\n",
      "Requirement already satisfied: nbformat==5.4.0 in c:\\users\\squiwing 123\\anaconda3\\envs\\py38\\lib\\site-packages (5.4.0)\n",
      "Requirement already satisfied: tbb==2021.* in c:\\users\\squiwing 123\\anaconda3\\envs\\py38\\lib\\site-packages (from daal==2021.4.0) (2021.11.0)\n",
      "Requirement already satisfied: traitlets>=5.1 in c:\\users\\squiwing 123\\anaconda3\\envs\\py38\\lib\\site-packages (from nbformat==5.4.0) (5.14.0)\n",
      "Requirement already satisfied: jsonschema>=2.6 in c:\\users\\squiwing 123\\anaconda3\\envs\\py38\\lib\\site-packages (from nbformat==5.4.0) (4.20.0)\n",
      "Requirement already satisfied: jupyter-core in c:\\users\\squiwing 123\\anaconda3\\envs\\py38\\lib\\site-packages (from nbformat==5.4.0) (5.5.0)\n",
      "Requirement already satisfied: fastjsonschema in c:\\users\\squiwing 123\\anaconda3\\envs\\py38\\lib\\site-packages (from nbformat==5.4.0) (2.19.0)\n",
      "Requirement already satisfied: requests<3,>=2.3 in c:\\users\\squiwing 123\\anaconda3\\envs\\py38\\lib\\site-packages (from requests_mock) (2.31.0)\n",
      "Requirement already satisfied: six in c:\\users\\squiwing 123\\anaconda3\\envs\\py38\\lib\\site-packages (from requests_mock) (1.16.0)\n",
      "Requirement already satisfied: attrs>=22.2.0 in c:\\users\\squiwing 123\\anaconda3\\envs\\py38\\lib\\site-packages (from jsonschema>=2.6->nbformat==5.4.0) (23.1.0)\n",
      "Requirement already satisfied: importlib-resources>=1.4.0 in c:\\users\\squiwing 123\\anaconda3\\envs\\py38\\lib\\site-packages (from jsonschema>=2.6->nbformat==5.4.0) (6.1.1)\n",
      "Requirement already satisfied: jsonschema-specifications>=2023.03.6 in c:\\users\\squiwing 123\\anaconda3\\envs\\py38\\lib\\site-packages (from jsonschema>=2.6->nbformat==5.4.0) (2023.11.2)\n",
      "Requirement already satisfied: pkgutil-resolve-name>=1.3.10 in c:\\users\\squiwing 123\\anaconda3\\envs\\py38\\lib\\site-packages (from jsonschema>=2.6->nbformat==5.4.0) (1.3.10)\n",
      "Requirement already satisfied: referencing>=0.28.4 in c:\\users\\squiwing 123\\anaconda3\\envs\\py38\\lib\\site-packages (from jsonschema>=2.6->nbformat==5.4.0) (0.32.0)\n",
      "Requirement already satisfied: rpds-py>=0.7.1 in c:\\users\\squiwing 123\\anaconda3\\envs\\py38\\lib\\site-packages (from jsonschema>=2.6->nbformat==5.4.0) (0.13.2)\n",
      "Requirement already satisfied: charset-normalizer<4,>=2 in c:\\users\\squiwing 123\\anaconda3\\envs\\py38\\lib\\site-packages (from requests<3,>=2.3->requests_mock) (3.3.2)\n",
      "Requirement already satisfied: idna<4,>=2.5 in c:\\users\\squiwing 123\\anaconda3\\envs\\py38\\lib\\site-packages (from requests<3,>=2.3->requests_mock) (3.6)\n",
      "Requirement already satisfied: urllib3<3,>=1.21.1 in c:\\users\\squiwing 123\\anaconda3\\envs\\py38\\lib\\site-packages (from requests<3,>=2.3->requests_mock) (2.1.0)\n",
      "Requirement already satisfied: certifi>=2017.4.17 in c:\\users\\squiwing 123\\anaconda3\\envs\\py38\\lib\\site-packages (from requests<3,>=2.3->requests_mock) (2023.11.17)\n",
      "Requirement already satisfied: platformdirs>=2.5 in c:\\users\\squiwing 123\\anaconda3\\envs\\py38\\lib\\site-packages (from jupyter-core->nbformat==5.4.0) (3.10.0)\n",
      "Requirement already satisfied: pywin32>=300 in c:\\users\\squiwing 123\\anaconda3\\envs\\py38\\lib\\site-packages (from jupyter-core->nbformat==5.4.0) (305.1)\n",
      "Requirement already satisfied: zipp>=3.1.0 in c:\\users\\squiwing 123\\anaconda3\\envs\\py38\\lib\\site-packages (from importlib-resources>=1.4.0->jsonschema>=2.6->nbformat==5.4.0) (3.11.0)\n"
     ]
    }
   ],
   "source": [
    "!pip install daal==2021.4.0 requests_mock numpy==1.22 clyent==1.2.1 nbformat==5.4.0"
   ]
  },
  {
   "cell_type": "code",
   "execution_count": 2,
   "id": "a7eee25d",
   "metadata": {},
   "outputs": [
    {
     "name": "stdout",
     "output_type": "stream",
     "text": [
      "Requirement already satisfied: tensorflow in c:\\users\\squiwing 123\\anaconda3\\envs\\py38\\lib\\site-packages (2.13.0)\n",
      "Requirement already satisfied: opencv-python in c:\\users\\squiwing 123\\anaconda3\\envs\\py38\\lib\\site-packages (4.8.1.78)\n",
      "Requirement already satisfied: mediapipe in c:\\users\\squiwing 123\\anaconda3\\envs\\py38\\lib\\site-packages (0.10.8)\n",
      "Requirement already satisfied: scikit-learn in c:\\users\\squiwing 123\\anaconda3\\envs\\py38\\lib\\site-packages (1.3.2)\n",
      "Requirement already satisfied: matplotlib in c:\\users\\squiwing 123\\anaconda3\\envs\\py38\\lib\\site-packages (3.7.4)\n",
      "Requirement already satisfied: tensorflow-intel==2.13.0 in c:\\users\\squiwing 123\\anaconda3\\envs\\py38\\lib\\site-packages (from tensorflow) (2.13.0)\n",
      "Requirement already satisfied: absl-py>=1.0.0 in c:\\users\\squiwing 123\\anaconda3\\envs\\py38\\lib\\site-packages (from tensorflow-intel==2.13.0->tensorflow) (2.0.0)\n",
      "Requirement already satisfied: astunparse>=1.6.0 in c:\\users\\squiwing 123\\anaconda3\\envs\\py38\\lib\\site-packages (from tensorflow-intel==2.13.0->tensorflow) (1.6.3)\n",
      "Requirement already satisfied: flatbuffers>=23.1.21 in c:\\users\\squiwing 123\\anaconda3\\envs\\py38\\lib\\site-packages (from tensorflow-intel==2.13.0->tensorflow) (23.5.26)\n",
      "Requirement already satisfied: gast<=0.4.0,>=0.2.1 in c:\\users\\squiwing 123\\anaconda3\\envs\\py38\\lib\\site-packages (from tensorflow-intel==2.13.0->tensorflow) (0.4.0)\n",
      "Requirement already satisfied: google-pasta>=0.1.1 in c:\\users\\squiwing 123\\anaconda3\\envs\\py38\\lib\\site-packages (from tensorflow-intel==2.13.0->tensorflow) (0.2.0)\n",
      "Requirement already satisfied: h5py>=2.9.0 in c:\\users\\squiwing 123\\anaconda3\\envs\\py38\\lib\\site-packages (from tensorflow-intel==2.13.0->tensorflow) (3.10.0)\n",
      "Requirement already satisfied: libclang>=13.0.0 in c:\\users\\squiwing 123\\anaconda3\\envs\\py38\\lib\\site-packages (from tensorflow-intel==2.13.0->tensorflow) (16.0.6)\n",
      "Requirement already satisfied: numpy<=1.24.3,>=1.22 in c:\\users\\squiwing 123\\anaconda3\\envs\\py38\\lib\\site-packages (from tensorflow-intel==2.13.0->tensorflow) (1.22.0)\n",
      "Requirement already satisfied: opt-einsum>=2.3.2 in c:\\users\\squiwing 123\\anaconda3\\envs\\py38\\lib\\site-packages (from tensorflow-intel==2.13.0->tensorflow) (3.3.0)\n",
      "Requirement already satisfied: packaging in c:\\users\\squiwing 123\\anaconda3\\envs\\py38\\lib\\site-packages (from tensorflow-intel==2.13.0->tensorflow) (23.1)\n",
      "Requirement already satisfied: protobuf!=4.21.0,!=4.21.1,!=4.21.2,!=4.21.3,!=4.21.4,!=4.21.5,<5.0.0dev,>=3.20.3 in c:\\users\\squiwing 123\\anaconda3\\envs\\py38\\lib\\site-packages (from tensorflow-intel==2.13.0->tensorflow) (3.20.3)\n",
      "Requirement already satisfied: setuptools in c:\\users\\squiwing 123\\anaconda3\\envs\\py38\\lib\\site-packages (from tensorflow-intel==2.13.0->tensorflow) (68.0.0)\n",
      "Requirement already satisfied: six>=1.12.0 in c:\\users\\squiwing 123\\anaconda3\\envs\\py38\\lib\\site-packages (from tensorflow-intel==2.13.0->tensorflow) (1.16.0)\n",
      "Requirement already satisfied: termcolor>=1.1.0 in c:\\users\\squiwing 123\\anaconda3\\envs\\py38\\lib\\site-packages (from tensorflow-intel==2.13.0->tensorflow) (2.4.0)\n",
      "Requirement already satisfied: typing-extensions<4.6.0,>=3.6.6 in c:\\users\\squiwing 123\\anaconda3\\envs\\py38\\lib\\site-packages (from tensorflow-intel==2.13.0->tensorflow) (4.5.0)\n",
      "Requirement already satisfied: wrapt>=1.11.0 in c:\\users\\squiwing 123\\anaconda3\\envs\\py38\\lib\\site-packages (from tensorflow-intel==2.13.0->tensorflow) (1.16.0)\n",
      "Requirement already satisfied: grpcio<2.0,>=1.24.3 in c:\\users\\squiwing 123\\anaconda3\\envs\\py38\\lib\\site-packages (from tensorflow-intel==2.13.0->tensorflow) (1.60.0)\n",
      "Requirement already satisfied: tensorboard<2.14,>=2.13 in c:\\users\\squiwing 123\\anaconda3\\envs\\py38\\lib\\site-packages (from tensorflow-intel==2.13.0->tensorflow) (2.13.0)\n",
      "Requirement already satisfied: tensorflow-estimator<2.14,>=2.13.0 in c:\\users\\squiwing 123\\anaconda3\\envs\\py38\\lib\\site-packages (from tensorflow-intel==2.13.0->tensorflow) (2.13.0)\n",
      "Requirement already satisfied: keras<2.14,>=2.13.1 in c:\\users\\squiwing 123\\anaconda3\\envs\\py38\\lib\\site-packages (from tensorflow-intel==2.13.0->tensorflow) (2.13.1)\n",
      "Requirement already satisfied: tensorflow-io-gcs-filesystem>=0.23.1 in c:\\users\\squiwing 123\\anaconda3\\envs\\py38\\lib\\site-packages (from tensorflow-intel==2.13.0->tensorflow) (0.31.0)\n",
      "Requirement already satisfied: attrs>=19.1.0 in c:\\users\\squiwing 123\\anaconda3\\envs\\py38\\lib\\site-packages (from mediapipe) (23.1.0)\n",
      "Requirement already satisfied: opencv-contrib-python in c:\\users\\squiwing 123\\anaconda3\\envs\\py38\\lib\\site-packages (from mediapipe) (4.8.1.78)\n",
      "Requirement already satisfied: sounddevice>=0.4.4 in c:\\users\\squiwing 123\\anaconda3\\envs\\py38\\lib\\site-packages (from mediapipe) (0.4.6)\n",
      "Requirement already satisfied: scipy>=1.5.0 in c:\\users\\squiwing 123\\anaconda3\\envs\\py38\\lib\\site-packages (from scikit-learn) (1.10.1)\n",
      "Requirement already satisfied: joblib>=1.1.1 in c:\\users\\squiwing 123\\anaconda3\\envs\\py38\\lib\\site-packages (from scikit-learn) (1.3.2)\n",
      "Requirement already satisfied: threadpoolctl>=2.0.0 in c:\\users\\squiwing 123\\anaconda3\\envs\\py38\\lib\\site-packages (from scikit-learn) (3.2.0)\n",
      "Requirement already satisfied: contourpy>=1.0.1 in c:\\users\\squiwing 123\\anaconda3\\envs\\py38\\lib\\site-packages (from matplotlib) (1.1.1)\n",
      "Requirement already satisfied: cycler>=0.10 in c:\\users\\squiwing 123\\anaconda3\\envs\\py38\\lib\\site-packages (from matplotlib) (0.12.1)\n",
      "Requirement already satisfied: fonttools>=4.22.0 in c:\\users\\squiwing 123\\anaconda3\\envs\\py38\\lib\\site-packages (from matplotlib) (4.46.0)\n",
      "Requirement already satisfied: kiwisolver>=1.0.1 in c:\\users\\squiwing 123\\anaconda3\\envs\\py38\\lib\\site-packages (from matplotlib) (1.4.5)\n",
      "Requirement already satisfied: pillow>=6.2.0 in c:\\users\\squiwing 123\\anaconda3\\envs\\py38\\lib\\site-packages (from matplotlib) (10.1.0)\n",
      "Requirement already satisfied: pyparsing>=2.3.1 in c:\\users\\squiwing 123\\anaconda3\\envs\\py38\\lib\\site-packages (from matplotlib) (3.1.1)\n",
      "Requirement already satisfied: python-dateutil>=2.7 in c:\\users\\squiwing 123\\anaconda3\\envs\\py38\\lib\\site-packages (from matplotlib) (2.8.2)\n",
      "Requirement already satisfied: importlib-resources>=3.2.0 in c:\\users\\squiwing 123\\anaconda3\\envs\\py38\\lib\\site-packages (from matplotlib) (6.1.1)\n",
      "Requirement already satisfied: zipp>=3.1.0 in c:\\users\\squiwing 123\\anaconda3\\envs\\py38\\lib\\site-packages (from importlib-resources>=3.2.0->matplotlib) (3.11.0)\n",
      "Requirement already satisfied: CFFI>=1.0 in c:\\users\\squiwing 123\\anaconda3\\envs\\py38\\lib\\site-packages (from sounddevice>=0.4.4->mediapipe) (1.16.0)\n",
      "Requirement already satisfied: wheel<1.0,>=0.23.0 in c:\\users\\squiwing 123\\anaconda3\\envs\\py38\\lib\\site-packages (from astunparse>=1.6.0->tensorflow-intel==2.13.0->tensorflow) (0.41.2)\n",
      "Requirement already satisfied: pycparser in c:\\users\\squiwing 123\\anaconda3\\envs\\py38\\lib\\site-packages (from CFFI>=1.0->sounddevice>=0.4.4->mediapipe) (2.21)\n",
      "Requirement already satisfied: google-auth<3,>=1.6.3 in c:\\users\\squiwing 123\\anaconda3\\envs\\py38\\lib\\site-packages (from tensorboard<2.14,>=2.13->tensorflow-intel==2.13.0->tensorflow) (2.25.2)\n",
      "Requirement already satisfied: google-auth-oauthlib<1.1,>=0.5 in c:\\users\\squiwing 123\\anaconda3\\envs\\py38\\lib\\site-packages (from tensorboard<2.14,>=2.13->tensorflow-intel==2.13.0->tensorflow) (1.0.0)\n",
      "Requirement already satisfied: markdown>=2.6.8 in c:\\users\\squiwing 123\\anaconda3\\envs\\py38\\lib\\site-packages (from tensorboard<2.14,>=2.13->tensorflow-intel==2.13.0->tensorflow) (3.5.1)\n",
      "Requirement already satisfied: requests<3,>=2.21.0 in c:\\users\\squiwing 123\\anaconda3\\envs\\py38\\lib\\site-packages (from tensorboard<2.14,>=2.13->tensorflow-intel==2.13.0->tensorflow) (2.31.0)\n",
      "Requirement already satisfied: tensorboard-data-server<0.8.0,>=0.7.0 in c:\\users\\squiwing 123\\anaconda3\\envs\\py38\\lib\\site-packages (from tensorboard<2.14,>=2.13->tensorflow-intel==2.13.0->tensorflow) (0.7.2)\n",
      "Requirement already satisfied: werkzeug>=1.0.1 in c:\\users\\squiwing 123\\anaconda3\\envs\\py38\\lib\\site-packages (from tensorboard<2.14,>=2.13->tensorflow-intel==2.13.0->tensorflow) (3.0.1)\n",
      "Requirement already satisfied: cachetools<6.0,>=2.0.0 in c:\\users\\squiwing 123\\anaconda3\\envs\\py38\\lib\\site-packages (from google-auth<3,>=1.6.3->tensorboard<2.14,>=2.13->tensorflow-intel==2.13.0->tensorflow) (5.3.2)\n",
      "Requirement already satisfied: pyasn1-modules>=0.2.1 in c:\\users\\squiwing 123\\anaconda3\\envs\\py38\\lib\\site-packages (from google-auth<3,>=1.6.3->tensorboard<2.14,>=2.13->tensorflow-intel==2.13.0->tensorflow) (0.3.0)\n",
      "Requirement already satisfied: rsa<5,>=3.1.4 in c:\\users\\squiwing 123\\anaconda3\\envs\\py38\\lib\\site-packages (from google-auth<3,>=1.6.3->tensorboard<2.14,>=2.13->tensorflow-intel==2.13.0->tensorflow) (4.9)\n",
      "Requirement already satisfied: requests-oauthlib>=0.7.0 in c:\\users\\squiwing 123\\anaconda3\\envs\\py38\\lib\\site-packages (from google-auth-oauthlib<1.1,>=0.5->tensorboard<2.14,>=2.13->tensorflow-intel==2.13.0->tensorflow) (1.3.1)\n",
      "Requirement already satisfied: importlib-metadata>=4.4 in c:\\users\\squiwing 123\\anaconda3\\envs\\py38\\lib\\site-packages (from markdown>=2.6.8->tensorboard<2.14,>=2.13->tensorflow-intel==2.13.0->tensorflow) (6.0.0)\n",
      "Requirement already satisfied: charset-normalizer<4,>=2 in c:\\users\\squiwing 123\\anaconda3\\envs\\py38\\lib\\site-packages (from requests<3,>=2.21.0->tensorboard<2.14,>=2.13->tensorflow-intel==2.13.0->tensorflow) (3.3.2)\n",
      "Requirement already satisfied: idna<4,>=2.5 in c:\\users\\squiwing 123\\anaconda3\\envs\\py38\\lib\\site-packages (from requests<3,>=2.21.0->tensorboard<2.14,>=2.13->tensorflow-intel==2.13.0->tensorflow) (3.6)\n",
      "Requirement already satisfied: urllib3<3,>=1.21.1 in c:\\users\\squiwing 123\\anaconda3\\envs\\py38\\lib\\site-packages (from requests<3,>=2.21.0->tensorboard<2.14,>=2.13->tensorflow-intel==2.13.0->tensorflow) (2.1.0)\n",
      "Requirement already satisfied: certifi>=2017.4.17 in c:\\users\\squiwing 123\\anaconda3\\envs\\py38\\lib\\site-packages (from requests<3,>=2.21.0->tensorboard<2.14,>=2.13->tensorflow-intel==2.13.0->tensorflow) (2023.11.17)\n",
      "Requirement already satisfied: MarkupSafe>=2.1.1 in c:\\users\\squiwing 123\\anaconda3\\envs\\py38\\lib\\site-packages (from werkzeug>=1.0.1->tensorboard<2.14,>=2.13->tensorflow-intel==2.13.0->tensorflow) (2.1.3)\n",
      "Requirement already satisfied: pyasn1<0.6.0,>=0.4.6 in c:\\users\\squiwing 123\\anaconda3\\envs\\py38\\lib\\site-packages (from pyasn1-modules>=0.2.1->google-auth<3,>=1.6.3->tensorboard<2.14,>=2.13->tensorflow-intel==2.13.0->tensorflow) (0.5.1)\n",
      "Requirement already satisfied: oauthlib>=3.0.0 in c:\\users\\squiwing 123\\anaconda3\\envs\\py38\\lib\\site-packages (from requests-oauthlib>=0.7.0->google-auth-oauthlib<1.1,>=0.5->tensorboard<2.14,>=2.13->tensorflow-intel==2.13.0->tensorflow) (3.2.2)\n"
     ]
    }
   ],
   "source": [
    "!pip install tensorflow opencv-python mediapipe scikit-learn matplotlib"
   ]
  },
  {
   "cell_type": "markdown",
   "id": "4d45dad3",
   "metadata": {},
   "source": [
    "## Import libraries"
   ]
  },
  {
   "cell_type": "code",
   "execution_count": 87,
   "id": "f5b800ce",
   "metadata": {},
   "outputs": [],
   "source": [
    "import numpy as np\n",
    "import scipy as cp\n",
    "import tensorflow as tf\n",
    "import cv2\n",
    "import numpy as np\n",
    "import os\n",
    "from matplotlib import pyplot as plt\n",
    "import time\n",
    "import mediapipe as mp\n",
    "from sklearn.model_selection import train_test_split\n",
    "from tensorflow.keras.utils import to_categorical\n",
    "from tensorflow.keras.models import Sequential\n",
    "from tensorflow.keras.layers import LSTM, Dense\n",
    "from tensorflow.keras.callbacks import TensorBoard\n",
    "from sklearn.metrics import multilabel_confusion_matrix, accuracy_score\n",
    "import sys\n",
    "import gtts\n",
    "import os\n",
    "from playsound import playsound\n",
    "language = 'id'"
   ]
  },
  {
   "cell_type": "markdown",
   "id": "9e0b5e84",
   "metadata": {},
   "source": [
    "## Webcam"
   ]
  },
  {
   "cell_type": "code",
   "execution_count": 2,
   "id": "867a76ca",
   "metadata": {},
   "outputs": [],
   "source": [
    "# media pipeline for drawing key points\n",
    "mp_model = mp.solutions.holistic     # holistic model\n",
    "mp_draw = mp.solutions.drawing_utils # drawing utilities"
   ]
  },
  {
   "cell_type": "code",
   "execution_count": 3,
   "id": "b1299ec0",
   "metadata": {},
   "outputs": [],
   "source": [
    "def mediapipe_detection(image, model):\n",
    "    # convert the image from bgr to rgb\n",
    "    image = cv2.cvtColor(image, cv2.COLOR_BGR2RGB)\n",
    "    # make image not writable\n",
    "    image.flags.writeable = False\n",
    "    # predict the image\n",
    "    res = model.process(image)\n",
    "    # image become writeable again\n",
    "    image.flags.writeable = True\n",
    "    # change back from rgb to bgr\n",
    "    image = cv2.cvtColor(image, cv2.COLOR_RGB2BGR)\n",
    "    return image, res"
   ]
  },
  {
   "cell_type": "code",
   "execution_count": 4,
   "id": "a0d935a7",
   "metadata": {},
   "outputs": [],
   "source": [
    "# same as draw function but its color is different (just for appearance)\n",
    "def draw_with_style(image, res):\n",
    "    mp_draw.draw_landmarks(image, res.face_landmarks, mp_model.FACEMESH_TESSELATION,\n",
    "                          mp_draw.DrawingSpec(color=(231, 111, 81), thickness=1, circle_radius=1),\n",
    "                          mp_draw.DrawingSpec(color=(233, 196, 106), thickness=1, circle_radius=1))\n",
    "    mp_draw.draw_landmarks(image, res.left_hand_landmarks, mp_model.HAND_CONNECTIONS,\n",
    "                          mp_draw.DrawingSpec(color=(38, 70, 83), thickness=1, circle_radius=2),\n",
    "                          mp_draw.DrawingSpec(color=(215, 180, 255), thickness=1, circle_radius=1))\n",
    "    mp_draw.draw_landmarks(image, res.right_hand_landmarks, mp_model.HAND_CONNECTIONS,\n",
    "                          mp_draw.DrawingSpec(color=(38, 70, 83), thickness=1, circle_radius=2),\n",
    "                          mp_draw.DrawingSpec(color=(215, 180, 255), thickness=1, circle_radius=1))\n",
    "    mp_draw.draw_landmarks(image, res.pose_landmarks, mp_model.POSE_CONNECTIONS,\n",
    "                          mp_draw.DrawingSpec(color=(24, 38, 77), thickness=1, circle_radius=2),\n",
    "                          mp_draw.DrawingSpec(color=(128, 228, 216), thickness=1, circle_radius=1))"
   ]
  },
  {
   "cell_type": "code",
   "execution_count": 5,
   "id": "dad6e677",
   "metadata": {},
   "outputs": [],
   "source": [
    "def draw(image, res):\n",
    "    # connection contains information that some part of body is connected to other part of body\n",
    "    mp_draw.draw_landmarks(image, res.face_landmarks, mp_model.FACEMESH_TESSELATION)\n",
    "    mp_draw.draw_landmarks(image, res.left_hand_landmarks, mp_model.HAND_CONNECTIONS)\n",
    "    mp_draw.draw_landmarks(image, res.right_hand_landmarks, mp_model.HAND_CONNECTIONS)\n",
    "    mp_draw.draw_landmarks(image, res.pose_landmarks, mp_model.POSE_CONNECTIONS)"
   ]
  },
  {
   "cell_type": "code",
   "execution_count": 15,
   "id": "6be0ea0f",
   "metadata": {},
   "outputs": [],
   "source": [
    "# testing camera with media pipe\n",
    "cap = cv2.VideoCapture(0)\n",
    "with mp_model.Holistic(min_detection_confidence=0.5, min_tracking_confidence=0.5) as model:\n",
    "    while cap.isOpened():\n",
    "        ret, frame = cap.read()\n",
    "        # make detection\n",
    "        image, res = mediapipe_detection(frame, model)\n",
    "        # draw landmarks to image based on the result\n",
    "        draw_with_style(image, res)\n",
    "        # show to our screen (frame name, frame)\n",
    "        cv2.imshow('OpenCV frame', image)\n",
    "        # Break using 'q'\n",
    "        if cv2.waitKey(10) & 0xFF == ord('q'):\n",
    "            break\n",
    "    # release our webcam\n",
    "    cap.release()\n",
    "    # close the frame\n",
    "    cv2.destroyAllWindows()"
   ]
  },
  {
   "cell_type": "code",
   "execution_count": 18,
   "id": "0644178f",
   "metadata": {},
   "outputs": [
    {
     "data": {
      "text/plain": [
       "<matplotlib.image.AxesImage at 0x1b8000e6f10>"
      ]
     },
     "execution_count": 18,
     "metadata": {},
     "output_type": "execute_result"
    },
    {
     "data": {
      "image/png": "[encoded data removed]",
      "text/plain": [
       "<Figure size 640x480 with 1 Axes>"
      ]
     },
     "metadata": {},
     "output_type": "display_data"
    }
   ],
   "source": [
    "# testing camera result\n",
    "draw_with_style(frame, res)\n",
    "plt.imshow(cv2.cvtColor(frame, cv2.COLOR_BGR2RGB))"
   ]
  },
  {
   "cell_type": "markdown",
   "id": "0576cddf",
   "metadata": {},
   "source": [
    "## Extracting points"
   ]
  },
  {
   "cell_type": "code",
   "execution_count": 6,
   "id": "16ed2728",
   "metadata": {},
   "outputs": [],
   "source": [
    "def get_points(res):\n",
    "    pose = []\n",
    "    if res.pose_landmarks:\n",
    "        for point in res.pose_landmarks.landmark:\n",
    "            test = np.array([point.x, point.y, point.z, point.visibility])\n",
    "            pose.append(test)\n",
    "        # change to np array and concatenate all array points inside pose\n",
    "        pose = np.array(pose)\n",
    "        pose = pose.flatten()\n",
    "    else:\n",
    "        # there are 33 landmarks, multiplied by 4 each\n",
    "        pose = np.zeros(33*4)\n",
    "        \n",
    "    face = []\n",
    "    if res.face_landmarks:\n",
    "        for point in res.face_landmarks.landmark:\n",
    "            test = np.array([point.x, point.y, point.z])\n",
    "            face.append(test)\n",
    "        # change to np array and concatenate all array points inside pose\n",
    "        face = np.array(face)\n",
    "        face = face.flatten()\n",
    "    else:\n",
    "        face = np.zeros(468*3)\n",
    "\n",
    "    left_hand = []\n",
    "    if res.left_hand_landmarks:\n",
    "        for point in res.left_hand_landmarks.landmark:\n",
    "            test = np.array([point.x, point.y, point.z])\n",
    "            left_hand.append(test)\n",
    "        # change to np array and concatenate all array points inside pose\n",
    "        left_hand = np.array(left_hand)\n",
    "        left_hand = left_hand.flatten()\n",
    "    else:\n",
    "        left_hand = np.zeros(21*3)\n",
    "\n",
    "    right_hand = []\n",
    "    if res.right_hand_landmarks:\n",
    "        for point in res.right_hand_landmarks.landmark:\n",
    "            test = np.array([point.x, point.y, point.z])\n",
    "            right_hand.append(test)\n",
    "        # change to np array and concatenate all array points inside pose\n",
    "        right_hand = np.array(right_hand)\n",
    "        right_hand = right_hand.flatten()\n",
    "    else:\n",
    "        right_hand = np.zeros(21*3)\n",
    "    \n",
    "#     print(pose.shape)\n",
    "#     print(face.shape)\n",
    "#     print(left_hand.shape)\n",
    "#     print(right_hand.shape)\n",
    "        \n",
    "    # concatenate all arrays\n",
    "    return np.concatenate([pose, face, left_hand, right_hand])"
   ]
  },
  {
   "cell_type": "markdown",
   "id": "f681b005",
   "metadata": {},
   "source": [
    "## Make folders"
   ]
  },
  {
   "cell_type": "code",
   "execution_count": 7,
   "id": "7c7122d3",
   "metadata": {},
   "outputs": [],
   "source": [
    "# path for get points data\n",
    "data_path = os.path.join('mp_data')\n",
    "# sign that we try to detect\n",
    "signs = np.array(['halo', 'aku', 'hobi', 'baca', 'terimakasih'])\n",
    "# capture 30 videos for data\n",
    "videos = 30\n",
    "# how many frames we want per video\n",
    "frame_per_video = 30"
   ]
  },
  {
   "cell_type": "markdown",
   "id": "87455226",
   "metadata": {},
   "source": [
    "## Collecting data"
   ]
  },
  {
   "cell_type": "code",
   "execution_count": 8,
   "id": "52bcbd02",
   "metadata": {},
   "outputs": [],
   "source": [
    "for sign in signs:\n",
    "    for video in range(videos):\n",
    "        try:\n",
    "            os.makedirs(os.path.join(data_path, sign, str(video)))\n",
    "        except:\n",
    "            pass"
   ]
  },
  {
   "cell_type": "markdown",
   "id": "7a329058",
   "metadata": {},
   "source": [
    "## Collect keypoint for training and testing"
   ]
  },
  {
   "cell_type": "code",
   "execution_count": 9,
   "id": "5be76984",
   "metadata": {},
   "outputs": [],
   "source": [
    "cap = cv2.VideoCapture(0)\n",
    "with mp_model.Holistic(min_detection_confidence=0.5, min_tracking_confidence=0.5) as model:\n",
    "    for sign in signs:\n",
    "        for video in range(videos):\n",
    "            for frame_num in range(frame_per_video):\n",
    "                # read\n",
    "                ret, frame = cap.read()\n",
    "                # make detection\n",
    "                image, res = mediapipe_detection(frame, model)\n",
    "                # draw landmarks to image based on the result\n",
    "                draw_with_style(image, res)\n",
    "                \n",
    "                # print text to tell us which part of data we are collecting now\n",
    "                if frame_num == 0:\n",
    "                    cv2.putText(image, 'Starting to collect', (120, 200),\n",
    "                               cv2.FONT_HERSHEY_SIMPLEX, 1, (0, 2555, 0), 4, cv2.LINE_AA)\n",
    "                    cv2.putText(image, 'Collecting frames for {} video number {}'.format(sign, video), (15, 12),\n",
    "                                cv2.FONT_HERSHEY_SIMPLEX, 0.5, (0, 0, 255), 1, cv2.LINE_AA)\n",
    "                    # show\n",
    "                    cv2.imshow('OpenCV Feed', image)\n",
    "                    cv2.waitKey(3000)\n",
    "                else:\n",
    "                    cv2.putText(image, 'Collecting frames for {} video number {}'.format(sign, video), (15,12),\n",
    "                               cv2.FONT_HERSHEY_SIMPLEX, 0.5, (0, 0, 255), 1, cv2.LINE_AA)\n",
    "                    # show\n",
    "                    cv2.imshow('OpenCV Feed', image)\n",
    "                    \n",
    "                # export keypoints\n",
    "                keypoints = get_points(res)\n",
    "                path_now = os.path.join(data_path, sign, str(video), str(frame_num))\n",
    "                np.save(path_now, keypoints)\n",
    "                \n",
    "                # Break using 'q'\n",
    "                if cv2.waitKey(10) & 0xFF == ord('q'):\n",
    "                    break\n",
    "    # release our webcam\n",
    "    cap.release()\n",
    "    # close the frame\n",
    "    cv2.destroyAllWindows()"
   ]
  },
  {
   "cell_type": "markdown",
   "id": "71ff8fcc",
   "metadata": {},
   "source": [
    "## Preprocess data and create labels + features"
   ]
  },
  {
   "cell_type": "code",
   "execution_count": 8,
   "id": "af06274c",
   "metadata": {},
   "outputs": [],
   "source": [
    "# create map\n",
    "label_map = {label:num for num, label in enumerate(signs)}"
   ]
  },
  {
   "cell_type": "code",
   "execution_count": 9,
   "id": "5e759236",
   "metadata": {},
   "outputs": [
    {
     "data": {
      "text/plain": [
       "{'halo': 0, 'aku': 1, 'hobi': 2, 'baca': 3, 'terimakasih': 4}"
      ]
     },
     "execution_count": 9,
     "metadata": {},
     "output_type": "execute_result"
    }
   ],
   "source": [
    "label_map"
   ]
  },
  {
   "cell_type": "code",
   "execution_count": 10,
   "id": "d2c4426c",
   "metadata": {},
   "outputs": [],
   "source": [
    "sequences = [] # x data\n",
    "labels = []    # y data\n",
    "for sign in signs:\n",
    "    for video in range(videos):\n",
    "        window = []\n",
    "        for frame_num in range(frame_per_video):\n",
    "            res = np.load(os.path.join(data_path, sign, str(video), \"{}.npy\".format(frame_num)))\n",
    "            window.append(res)\n",
    "        sequences.append(window)\n",
    "        labels.append(label_map[sign])"
   ]
  },
  {
   "cell_type": "code",
   "execution_count": 11,
   "id": "abd3d7e0",
   "metadata": {},
   "outputs": [
    {
     "name": "stdout",
     "output_type": "stream",
     "text": [
      "(150, 30, 1662)\n",
      "(150,)\n"
     ]
    }
   ],
   "source": [
    "print(np.array(sequences).shape)\n",
    "print(np.array(labels).shape)"
   ]
  },
  {
   "cell_type": "code",
   "execution_count": 11,
   "id": "6e6e922d",
   "metadata": {},
   "outputs": [],
   "source": [
    "# Each binary form represents 'halo', 'aku', etc.\n",
    "X = np.array(sequences)\n",
    "y = to_categorical(labels).astype(int)\n",
    "# print(y)"
   ]
  },
  {
   "cell_type": "code",
   "execution_count": 12,
   "id": "a124e2ce",
   "metadata": {},
   "outputs": [],
   "source": [
    "X_train, X_test, y_train, y_test = train_test_split(X, y, test_size=0.08)"
   ]
  },
  {
   "cell_type": "code",
   "execution_count": 18,
   "id": "36eec940",
   "metadata": {},
   "outputs": [
    {
     "name": "stdout",
     "output_type": "stream",
     "text": [
      "(138, 30, 1662)\n",
      "(12, 5)\n"
     ]
    }
   ],
   "source": [
    "print(X_train.shape)\n",
    "print(y_test.shape)"
   ]
  },
  {
   "cell_type": "markdown",
   "id": "98532f8b",
   "metadata": {},
   "source": [
    "## Build LSTM model"
   ]
  },
  {
   "cell_type": "code",
   "execution_count": 47,
   "id": "ac8ea48b",
   "metadata": {},
   "outputs": [],
   "source": [
    "# Using TensorBoard because it is really helpful to\n",
    "# let us track the accuracy of the model while it is still in training\n",
    "log_dir = os.path.join('Log_fin')\n",
    "tb_callback = TensorBoard(log_dir = log_dir)"
   ]
  },
  {
   "cell_type": "code",
   "execution_count": 72,
   "id": "5103a2b8",
   "metadata": {},
   "outputs": [],
   "source": [
    "# Get sequential API to help us to build model by adding up layers easily\n",
    "model_train = Sequential()\n",
    "model_train.add(LSTM(128, return_sequences=True, activation='relu', input_shape=(30,1662)))\n",
    "model_train.add(LSTM(256, return_sequences=True, activation='relu'))\n",
    "# The layer below has return_sequences false because after that layer we are going to have dense layer\n",
    "model_train.add(LSTM(128, return_sequences=False, activation='relu'))\n",
    "model_train.add(Dense(128, activation='relu'))\n",
    "model_train.add(Dense(64, activation='relu'))\n",
    "model_train.add(Dense(signs.shape[0], activation='softmax'))"
   ]
  },
  {
   "cell_type": "code",
   "execution_count": 73,
   "id": "1d2d66ce",
   "metadata": {},
   "outputs": [],
   "source": [
    "# Using cateogrical_crossentropy not MSE because the model is multiclass classification model\n",
    "model_train.compile(optimizer='Adam', loss='categorical_crossentropy', metrics=['categorical_accuracy'])"
   ]
  },
  {
   "cell_type": "markdown",
   "id": "23c5fd27",
   "metadata": {},
   "source": [
    "## Train model"
   ]
  },
  {
   "cell_type": "code",
   "execution_count": 74,
   "id": "7648df1c",
   "metadata": {},
   "outputs": [
    {
     "name": "stdout",
     "output_type": "stream",
     "text": [
      "Epoch 1/2000\n",
      "5/5 [==============================] - 5s 290ms/step - loss: 1.7514 - categorical_accuracy: 0.2101\n",
      "Epoch 2/2000\n",
      "5/5 [==============================] - 1s 289ms/step - loss: 1.9374 - categorical_accuracy: 0.1667\n",
      "Epoch 3/2000\n",
      "5/5 [==============================] - 1s 288ms/step - loss: 1.5833 - categorical_accuracy: 0.1594\n",
      "Epoch 4/2000\n",
      "5/5 [==============================] - 1s 286ms/step - loss: 1.5414 - categorical_accuracy: 0.3913\n",
      "Epoch 5/2000\n",
      "5/5 [==============================] - 1s 283ms/step - loss: 2.1894 - categorical_accuracy: 0.2101\n",
      "Epoch 6/2000\n",
      "5/5 [==============================] - 1s 298ms/step - loss: 1.5949 - categorical_accuracy: 0.1957\n",
      "Epoch 7/2000\n",
      "5/5 [==============================] - 2s 302ms/step - loss: 1.5964 - categorical_accuracy: 0.2246\n",
      "Epoch 8/2000\n",
      "5/5 [==============================] - 1s 289ms/step - loss: 1.4376 - categorical_accuracy: 0.4130\n",
      "Epoch 9/2000\n",
      "5/5 [==============================] - 2s 300ms/step - loss: 1.2762 - categorical_accuracy: 0.3841\n",
      "Epoch 10/2000\n",
      "5/5 [==============================] - 1s 292ms/step - loss: 1.2498 - categorical_accuracy: 0.5000\n",
      "Epoch 11/2000\n",
      "5/5 [==============================] - 1s 288ms/step - loss: 1.1936 - categorical_accuracy: 0.4493\n",
      "Epoch 12/2000\n",
      "5/5 [==============================] - 1s 289ms/step - loss: 1.1120 - categorical_accuracy: 0.4855\n",
      "Epoch 13/2000\n",
      "5/5 [==============================] - 1s 290ms/step - loss: 1.0255 - categorical_accuracy: 0.4565\n",
      "Epoch 14/2000\n",
      "5/5 [==============================] - 2s 309ms/step - loss: 0.8622 - categorical_accuracy: 0.6014\n",
      "Epoch 15/2000\n",
      "5/5 [==============================] - 1s 290ms/step - loss: 1.5435 - categorical_accuracy: 0.3986\n",
      "Epoch 16/2000\n",
      "5/5 [==============================] - 1s 290ms/step - loss: 1.0582 - categorical_accuracy: 0.5217\n",
      "Epoch 17/2000\n",
      "5/5 [==============================] - 1s 293ms/step - loss: 1.0047 - categorical_accuracy: 0.5507\n",
      "Epoch 18/2000\n",
      "5/5 [==============================] - 1s 292ms/step - loss: 0.8807 - categorical_accuracy: 0.5290\n",
      "Epoch 19/2000\n",
      "5/5 [==============================] - 1s 290ms/step - loss: 0.6747 - categorical_accuracy: 0.6522\n",
      "Epoch 20/2000\n",
      "5/5 [==============================] - 2s 300ms/step - loss: 0.5837 - categorical_accuracy: 0.7681\n",
      "Epoch 21/2000\n",
      "5/5 [==============================] - 1s 290ms/step - loss: 1.2670 - categorical_accuracy: 0.5435\n",
      "Epoch 22/2000\n",
      "5/5 [==============================] - 1s 291ms/step - loss: 1.1828 - categorical_accuracy: 0.4493\n",
      "Epoch 23/2000\n",
      "5/5 [==============================] - 1s 293ms/step - loss: 1.1033 - categorical_accuracy: 0.4928\n",
      "Epoch 24/2000\n",
      "5/5 [==============================] - 2s 297ms/step - loss: 1.1576 - categorical_accuracy: 0.4348\n",
      "Epoch 25/2000\n",
      "5/5 [==============================] - 1s 292ms/step - loss: 0.9122 - categorical_accuracy: 0.5870\n",
      "Epoch 26/2000\n",
      "5/5 [==============================] - 1s 294ms/step - loss: 0.8193 - categorical_accuracy: 0.6667\n",
      "Epoch 27/2000\n",
      "5/5 [==============================] - 2s 307ms/step - loss: 0.6496 - categorical_accuracy: 0.7246\n",
      "Epoch 28/2000\n",
      "5/5 [==============================] - 1s 293ms/step - loss: 0.5461 - categorical_accuracy: 0.7391\n",
      "Epoch 29/2000\n",
      "5/5 [==============================] - 1s 287ms/step - loss: 0.8473 - categorical_accuracy: 0.5797\n",
      "Epoch 30/2000\n",
      "5/5 [==============================] - 1s 290ms/step - loss: 0.7232 - categorical_accuracy: 0.6812\n",
      "Epoch 31/2000\n",
      "5/5 [==============================] - 2s 304ms/step - loss: 0.7053 - categorical_accuracy: 0.7754\n",
      "Epoch 32/2000\n",
      "5/5 [==============================] - 1s 290ms/step - loss: 0.6215 - categorical_accuracy: 0.7826\n",
      "Epoch 33/2000\n",
      "5/5 [==============================] - 1s 293ms/step - loss: 0.5305 - categorical_accuracy: 0.8116\n",
      "Epoch 34/2000\n",
      "5/5 [==============================] - 1s 294ms/step - loss: 0.4383 - categorical_accuracy: 0.8116\n",
      "Epoch 35/2000\n",
      "5/5 [==============================] - 1s 291ms/step - loss: 0.3718 - categorical_accuracy: 0.8478\n",
      "Epoch 36/2000\n",
      "5/5 [==============================] - 1s 291ms/step - loss: 0.6927 - categorical_accuracy: 0.7029\n",
      "Epoch 37/2000\n",
      "5/5 [==============================] - 1s 294ms/step - loss: 0.5817 - categorical_accuracy: 0.6957\n",
      "Epoch 38/2000\n",
      "5/5 [==============================] - 1s 290ms/step - loss: 0.7429 - categorical_accuracy: 0.6594\n",
      "Epoch 39/2000\n",
      "5/5 [==============================] - 1s 290ms/step - loss: 0.5898 - categorical_accuracy: 0.7971\n",
      "Epoch 40/2000\n",
      "5/5 [==============================] - 1s 291ms/step - loss: 0.4930 - categorical_accuracy: 0.8116\n",
      "Epoch 41/2000\n",
      "5/5 [==============================] - 1s 288ms/step - loss: 0.4442 - categorical_accuracy: 0.8188\n",
      "Epoch 42/2000\n",
      "5/5 [==============================] - 1s 291ms/step - loss: 0.3963 - categorical_accuracy: 0.8333\n",
      "Epoch 43/2000\n",
      "5/5 [==============================] - 1s 291ms/step - loss: 0.3028 - categorical_accuracy: 0.9058\n",
      "Epoch 44/2000\n",
      "5/5 [==============================] - 1s 291ms/step - loss: 0.4222 - categorical_accuracy: 0.8043\n",
      "Epoch 45/2000\n",
      "5/5 [==============================] - 1s 288ms/step - loss: 0.3370 - categorical_accuracy: 0.8406\n",
      "Epoch 46/2000\n",
      "5/5 [==============================] - 1s 292ms/step - loss: 0.3559 - categorical_accuracy: 0.8333\n",
      "Epoch 47/2000\n",
      "5/5 [==============================] - 1s 289ms/step - loss: 0.2577 - categorical_accuracy: 0.8913\n",
      "Epoch 48/2000\n",
      "5/5 [==============================] - 1s 292ms/step - loss: 0.2447 - categorical_accuracy: 0.8913\n",
      "Epoch 49/2000\n",
      "5/5 [==============================] - 1s 291ms/step - loss: 0.1845 - categorical_accuracy: 0.9420\n",
      "Epoch 50/2000\n",
      "5/5 [==============================] - 1s 289ms/step - loss: 0.1417 - categorical_accuracy: 0.9638\n",
      "Epoch 51/2000\n",
      "5/5 [==============================] - 1s 290ms/step - loss: 0.2375 - categorical_accuracy: 0.8986\n",
      "Epoch 52/2000\n",
      "5/5 [==============================] - 1s 288ms/step - loss: 0.3776 - categorical_accuracy: 0.8188\n",
      "Epoch 53/2000\n",
      "5/5 [==============================] - 1s 295ms/step - loss: 0.2910 - categorical_accuracy: 0.8768\n",
      "Epoch 54/2000\n",
      "5/5 [==============================] - 2s 301ms/step - loss: 0.3245 - categorical_accuracy: 0.8696\n",
      "Epoch 55/2000\n",
      "5/5 [==============================] - 1s 289ms/step - loss: 0.2756 - categorical_accuracy: 0.8478\n",
      "Epoch 56/2000\n",
      "5/5 [==============================] - 1s 290ms/step - loss: 0.1951 - categorical_accuracy: 0.9420\n",
      "Epoch 57/2000\n",
      "5/5 [==============================] - 1s 290ms/step - loss: 0.2245 - categorical_accuracy: 0.9420\n",
      "Epoch 58/2000\n",
      "5/5 [==============================] - 1s 289ms/step - loss: 0.5448 - categorical_accuracy: 0.7826\n",
      "Epoch 59/2000\n",
      "5/5 [==============================] - 1s 289ms/step - loss: 1.1673 - categorical_accuracy: 0.6812\n",
      "Epoch 60/2000\n",
      "5/5 [==============================] - 1s 288ms/step - loss: 1.3411 - categorical_accuracy: 0.5580\n",
      "Epoch 61/2000\n",
      "5/5 [==============================] - 1s 289ms/step - loss: 0.6795 - categorical_accuracy: 0.7029\n",
      "Epoch 62/2000\n",
      "5/5 [==============================] - 1s 289ms/step - loss: 0.6252 - categorical_accuracy: 0.7609\n",
      "Epoch 63/2000\n",
      "5/5 [==============================] - 1s 296ms/step - loss: 0.5219 - categorical_accuracy: 0.7464\n",
      "Epoch 64/2000\n",
      "5/5 [==============================] - 2s 301ms/step - loss: 0.4036 - categorical_accuracy: 0.8696\n",
      "Epoch 65/2000\n",
      "5/5 [==============================] - 1s 290ms/step - loss: 0.3753 - categorical_accuracy: 0.8913\n",
      "Epoch 66/2000\n",
      "5/5 [==============================] - 2s 293ms/step - loss: 0.2659 - categorical_accuracy: 0.9493\n",
      "Epoch 67/2000\n",
      "5/5 [==============================] - 1s 292ms/step - loss: 0.2024 - categorical_accuracy: 0.9710\n",
      "Epoch 68/2000\n",
      "5/5 [==============================] - 2s 295ms/step - loss: 0.1575 - categorical_accuracy: 0.9420\n",
      "Epoch 69/2000\n",
      "5/5 [==============================] - 1s 290ms/step - loss: 0.1048 - categorical_accuracy: 0.9783\n",
      "Epoch 70/2000\n",
      "5/5 [==============================] - 1s 291ms/step - loss: 0.1117 - categorical_accuracy: 0.9493\n",
      "Epoch 71/2000\n",
      "5/5 [==============================] - 1s 289ms/step - loss: 0.0712 - categorical_accuracy: 0.9783\n",
      "Epoch 72/2000\n",
      "5/5 [==============================] - 1s 292ms/step - loss: 0.0579 - categorical_accuracy: 0.9928\n",
      "Epoch 73/2000\n"
     ]
    },
    {
     "name": "stdout",
     "output_type": "stream",
     "text": [
      "5/5 [==============================] - 1s 294ms/step - loss: 0.0637 - categorical_accuracy: 0.9855\n",
      "Epoch 74/2000\n",
      "5/5 [==============================] - 1s 291ms/step - loss: 0.0314 - categorical_accuracy: 0.9928\n",
      "Epoch 75/2000\n",
      "5/5 [==============================] - 1s 289ms/step - loss: 0.0701 - categorical_accuracy: 0.9710\n",
      "Epoch 76/2000\n",
      "5/5 [==============================] - 1s 288ms/step - loss: 1.0540 - categorical_accuracy: 0.7246\n",
      "Epoch 77/2000\n",
      "5/5 [==============================] - 1s 292ms/step - loss: 0.5237 - categorical_accuracy: 0.8188\n",
      "Epoch 78/2000\n",
      "5/5 [==============================] - 1s 291ms/step - loss: 0.3930 - categorical_accuracy: 0.8623\n",
      "Epoch 79/2000\n",
      "5/5 [==============================] - 1s 293ms/step - loss: 0.3328 - categorical_accuracy: 0.9203\n",
      "Epoch 80/2000\n",
      "5/5 [==============================] - 2s 311ms/step - loss: 0.2917 - categorical_accuracy: 0.8986\n",
      "Epoch 81/2000\n",
      "5/5 [==============================] - 1s 294ms/step - loss: 0.2890 - categorical_accuracy: 0.9275\n",
      "Epoch 82/2000\n",
      "5/5 [==============================] - 1s 291ms/step - loss: 0.2472 - categorical_accuracy: 0.9203\n",
      "Epoch 83/2000\n",
      "5/5 [==============================] - 1s 291ms/step - loss: 0.1818 - categorical_accuracy: 0.9710\n",
      "Epoch 84/2000\n",
      "5/5 [==============================] - 1s 291ms/step - loss: 0.1767 - categorical_accuracy: 0.9130\n",
      "Epoch 85/2000\n",
      "5/5 [==============================] - 1s 290ms/step - loss: 0.1434 - categorical_accuracy: 0.9493\n",
      "Epoch 86/2000\n",
      "5/5 [==============================] - 1s 286ms/step - loss: 0.1023 - categorical_accuracy: 0.9783\n",
      "Epoch 87/2000\n",
      "5/5 [==============================] - 1s 293ms/step - loss: 0.0667 - categorical_accuracy: 0.9928\n",
      "Epoch 88/2000\n",
      "5/5 [==============================] - 1s 290ms/step - loss: 0.0554 - categorical_accuracy: 0.9928\n",
      "Epoch 89/2000\n",
      "5/5 [==============================] - 1s 291ms/step - loss: 0.0428 - categorical_accuracy: 1.0000\n",
      "Epoch 90/2000\n",
      "5/5 [==============================] - 1s 287ms/step - loss: 0.0328 - categorical_accuracy: 1.0000\n",
      "Epoch 91/2000\n",
      "5/5 [==============================] - 1s 292ms/step - loss: 0.0279 - categorical_accuracy: 1.0000\n",
      "Epoch 92/2000\n",
      "5/5 [==============================] - 2s 296ms/step - loss: 0.0372 - categorical_accuracy: 0.9928\n",
      "Epoch 93/2000\n",
      "5/5 [==============================] - 1s 289ms/step - loss: 0.0184 - categorical_accuracy: 0.9928\n",
      "Epoch 94/2000\n",
      "5/5 [==============================] - 1s 288ms/step - loss: 0.0056 - categorical_accuracy: 1.0000\n",
      "Epoch 95/2000\n",
      "5/5 [==============================] - 1s 290ms/step - loss: 0.0050 - categorical_accuracy: 1.0000\n",
      "Epoch 96/2000\n",
      "5/5 [==============================] - 1s 289ms/step - loss: 0.0233 - categorical_accuracy: 0.9928\n",
      "Epoch 97/2000\n",
      "5/5 [==============================] - 1s 289ms/step - loss: 0.0246 - categorical_accuracy: 0.9855\n",
      "Epoch 98/2000\n",
      "5/5 [==============================] - 1s 291ms/step - loss: 0.0642 - categorical_accuracy: 0.9710\n",
      "Epoch 99/2000\n",
      "5/5 [==============================] - 1s 290ms/step - loss: 0.2537 - categorical_accuracy: 0.9203\n",
      "Epoch 100/2000\n",
      "5/5 [==============================] - 1s 291ms/step - loss: 0.1313 - categorical_accuracy: 0.9348\n",
      "Epoch 101/2000\n",
      "5/5 [==============================] - 1s 288ms/step - loss: 0.4518 - categorical_accuracy: 0.8116\n",
      "Epoch 102/2000\n",
      "5/5 [==============================] - 1s 289ms/step - loss: 0.2671 - categorical_accuracy: 0.8841\n",
      "Epoch 103/2000\n",
      "5/5 [==============================] - 1s 289ms/step - loss: 0.1629 - categorical_accuracy: 0.9275\n",
      "Epoch 104/2000\n",
      "5/5 [==============================] - 1s 294ms/step - loss: 0.1830 - categorical_accuracy: 0.9420\n",
      "Epoch 105/2000\n",
      "5/5 [==============================] - 2s 296ms/step - loss: 0.1754 - categorical_accuracy: 0.9203\n",
      "Epoch 106/2000\n",
      "5/5 [==============================] - 1s 289ms/step - loss: 0.1949 - categorical_accuracy: 0.9203\n",
      "Epoch 107/2000\n",
      "5/5 [==============================] - 1s 290ms/step - loss: 0.0977 - categorical_accuracy: 0.9565\n",
      "Epoch 108/2000\n",
      "5/5 [==============================] - 2s 316ms/step - loss: 0.0492 - categorical_accuracy: 1.0000\n",
      "Epoch 109/2000\n",
      "5/5 [==============================] - 2s 329ms/step - loss: 0.0300 - categorical_accuracy: 1.0000\n",
      "Epoch 110/2000\n",
      "5/5 [==============================] - 2s 318ms/step - loss: 0.0256 - categorical_accuracy: 1.0000\n",
      "Epoch 111/2000\n",
      "5/5 [==============================] - 2s 318ms/step - loss: 0.0301 - categorical_accuracy: 0.9928\n",
      "Epoch 112/2000\n",
      "5/5 [==============================] - 2s 304ms/step - loss: 0.0587 - categorical_accuracy: 0.9638\n",
      "Epoch 113/2000\n",
      "5/5 [==============================] - 2s 306ms/step - loss: 0.0207 - categorical_accuracy: 1.0000\n",
      "Epoch 114/2000\n",
      "5/5 [==============================] - 2s 299ms/step - loss: 0.0171 - categorical_accuracy: 1.0000\n",
      "Epoch 115/2000\n",
      "5/5 [==============================] - 2s 304ms/step - loss: 0.0099 - categorical_accuracy: 1.0000\n",
      "Epoch 116/2000\n"
     ]
    },
    {
     "ename": "KeyboardInterrupt",
     "evalue": "",
     "output_type": "error",
     "traceback": [
      "\u001b[1;31m---------------------------------------------------------------------------\u001b[0m",
      "\u001b[1;31mKeyboardInterrupt\u001b[0m                         Traceback (most recent call last)",
      "Cell \u001b[1;32mIn[74], line 1\u001b[0m\n\u001b[1;32m----> 1\u001b[0m \u001b[43mmodel_train\u001b[49m\u001b[38;5;241;43m.\u001b[39;49m\u001b[43mfit\u001b[49m\u001b[43m(\u001b[49m\u001b[43mX_train\u001b[49m\u001b[43m,\u001b[49m\u001b[43m \u001b[49m\u001b[43my_train\u001b[49m\u001b[43m,\u001b[49m\u001b[43m \u001b[49m\u001b[43mepochs\u001b[49m\u001b[38;5;241;43m=\u001b[39;49m\u001b[38;5;241;43m2000\u001b[39;49m\u001b[43m,\u001b[49m\u001b[43m \u001b[49m\u001b[43mcallbacks\u001b[49m\u001b[38;5;241;43m=\u001b[39;49m\u001b[43m[\u001b[49m\u001b[43mtb_callback\u001b[49m\u001b[43m]\u001b[49m\u001b[43m)\u001b[49m\n",
      "File \u001b[1;32m~\\anaconda3\\envs\\py38\\lib\\site-packages\\keras\\src\\utils\\traceback_utils.py:65\u001b[0m, in \u001b[0;36mfilter_traceback.<locals>.error_handler\u001b[1;34m(*args, **kwargs)\u001b[0m\n\u001b[0;32m     63\u001b[0m filtered_tb \u001b[38;5;241m=\u001b[39m \u001b[38;5;28;01mNone\u001b[39;00m\n\u001b[0;32m     64\u001b[0m \u001b[38;5;28;01mtry\u001b[39;00m:\n\u001b[1;32m---> 65\u001b[0m     \u001b[38;5;28;01mreturn\u001b[39;00m \u001b[43mfn\u001b[49m\u001b[43m(\u001b[49m\u001b[38;5;241;43m*\u001b[39;49m\u001b[43margs\u001b[49m\u001b[43m,\u001b[49m\u001b[43m \u001b[49m\u001b[38;5;241;43m*\u001b[39;49m\u001b[38;5;241;43m*\u001b[39;49m\u001b[43mkwargs\u001b[49m\u001b[43m)\u001b[49m\n\u001b[0;32m     66\u001b[0m \u001b[38;5;28;01mexcept\u001b[39;00m \u001b[38;5;167;01mException\u001b[39;00m \u001b[38;5;28;01mas\u001b[39;00m e:\n\u001b[0;32m     67\u001b[0m     filtered_tb \u001b[38;5;241m=\u001b[39m _process_traceback_frames(e\u001b[38;5;241m.\u001b[39m__traceback__)\n",
      "File \u001b[1;32m~\\anaconda3\\envs\\py38\\lib\\site-packages\\keras\\src\\engine\\training.py:1742\u001b[0m, in \u001b[0;36mModel.fit\u001b[1;34m(self, x, y, batch_size, epochs, verbose, callbacks, validation_split, validation_data, shuffle, class_weight, sample_weight, initial_epoch, steps_per_epoch, validation_steps, validation_batch_size, validation_freq, max_queue_size, workers, use_multiprocessing)\u001b[0m\n\u001b[0;32m   1734\u001b[0m \u001b[38;5;28;01mwith\u001b[39;00m tf\u001b[38;5;241m.\u001b[39mprofiler\u001b[38;5;241m.\u001b[39mexperimental\u001b[38;5;241m.\u001b[39mTrace(\n\u001b[0;32m   1735\u001b[0m     \u001b[38;5;124m\"\u001b[39m\u001b[38;5;124mtrain\u001b[39m\u001b[38;5;124m\"\u001b[39m,\n\u001b[0;32m   1736\u001b[0m     epoch_num\u001b[38;5;241m=\u001b[39mepoch,\n\u001b[1;32m   (...)\u001b[0m\n\u001b[0;32m   1739\u001b[0m     _r\u001b[38;5;241m=\u001b[39m\u001b[38;5;241m1\u001b[39m,\n\u001b[0;32m   1740\u001b[0m ):\n\u001b[0;32m   1741\u001b[0m     callbacks\u001b[38;5;241m.\u001b[39mon_train_batch_begin(step)\n\u001b[1;32m-> 1742\u001b[0m     tmp_logs \u001b[38;5;241m=\u001b[39m \u001b[38;5;28;43mself\u001b[39;49m\u001b[38;5;241;43m.\u001b[39;49m\u001b[43mtrain_function\u001b[49m\u001b[43m(\u001b[49m\u001b[43miterator\u001b[49m\u001b[43m)\u001b[49m\n\u001b[0;32m   1743\u001b[0m     \u001b[38;5;28;01mif\u001b[39;00m data_handler\u001b[38;5;241m.\u001b[39mshould_sync:\n\u001b[0;32m   1744\u001b[0m         context\u001b[38;5;241m.\u001b[39masync_wait()\n",
      "File \u001b[1;32m~\\anaconda3\\envs\\py38\\lib\\site-packages\\tensorflow\\python\\util\\traceback_utils.py:150\u001b[0m, in \u001b[0;36mfilter_traceback.<locals>.error_handler\u001b[1;34m(*args, **kwargs)\u001b[0m\n\u001b[0;32m    148\u001b[0m filtered_tb \u001b[38;5;241m=\u001b[39m \u001b[38;5;28;01mNone\u001b[39;00m\n\u001b[0;32m    149\u001b[0m \u001b[38;5;28;01mtry\u001b[39;00m:\n\u001b[1;32m--> 150\u001b[0m   \u001b[38;5;28;01mreturn\u001b[39;00m \u001b[43mfn\u001b[49m\u001b[43m(\u001b[49m\u001b[38;5;241;43m*\u001b[39;49m\u001b[43margs\u001b[49m\u001b[43m,\u001b[49m\u001b[43m \u001b[49m\u001b[38;5;241;43m*\u001b[39;49m\u001b[38;5;241;43m*\u001b[39;49m\u001b[43mkwargs\u001b[49m\u001b[43m)\u001b[49m\n\u001b[0;32m    151\u001b[0m \u001b[38;5;28;01mexcept\u001b[39;00m \u001b[38;5;167;01mException\u001b[39;00m \u001b[38;5;28;01mas\u001b[39;00m e:\n\u001b[0;32m    152\u001b[0m   filtered_tb \u001b[38;5;241m=\u001b[39m _process_traceback_frames(e\u001b[38;5;241m.\u001b[39m__traceback__)\n",
      "File \u001b[1;32m~\\anaconda3\\envs\\py38\\lib\\site-packages\\tensorflow\\python\\eager\\polymorphic_function\\polymorphic_function.py:825\u001b[0m, in \u001b[0;36mFunction.__call__\u001b[1;34m(self, *args, **kwds)\u001b[0m\n\u001b[0;32m    822\u001b[0m compiler \u001b[38;5;241m=\u001b[39m \u001b[38;5;124m\"\u001b[39m\u001b[38;5;124mxla\u001b[39m\u001b[38;5;124m\"\u001b[39m \u001b[38;5;28;01mif\u001b[39;00m \u001b[38;5;28mself\u001b[39m\u001b[38;5;241m.\u001b[39m_jit_compile \u001b[38;5;28;01melse\u001b[39;00m \u001b[38;5;124m\"\u001b[39m\u001b[38;5;124mnonXla\u001b[39m\u001b[38;5;124m\"\u001b[39m\n\u001b[0;32m    824\u001b[0m \u001b[38;5;28;01mwith\u001b[39;00m OptionalXlaContext(\u001b[38;5;28mself\u001b[39m\u001b[38;5;241m.\u001b[39m_jit_compile):\n\u001b[1;32m--> 825\u001b[0m   result \u001b[38;5;241m=\u001b[39m \u001b[38;5;28;43mself\u001b[39;49m\u001b[38;5;241;43m.\u001b[39;49m\u001b[43m_call\u001b[49m\u001b[43m(\u001b[49m\u001b[38;5;241;43m*\u001b[39;49m\u001b[43margs\u001b[49m\u001b[43m,\u001b[49m\u001b[43m \u001b[49m\u001b[38;5;241;43m*\u001b[39;49m\u001b[38;5;241;43m*\u001b[39;49m\u001b[43mkwds\u001b[49m\u001b[43m)\u001b[49m\n\u001b[0;32m    827\u001b[0m new_tracing_count \u001b[38;5;241m=\u001b[39m \u001b[38;5;28mself\u001b[39m\u001b[38;5;241m.\u001b[39mexperimental_get_tracing_count()\n\u001b[0;32m    828\u001b[0m without_tracing \u001b[38;5;241m=\u001b[39m (tracing_count \u001b[38;5;241m==\u001b[39m new_tracing_count)\n",
      "File \u001b[1;32m~\\anaconda3\\envs\\py38\\lib\\site-packages\\tensorflow\\python\\eager\\polymorphic_function\\polymorphic_function.py:857\u001b[0m, in \u001b[0;36mFunction._call\u001b[1;34m(self, *args, **kwds)\u001b[0m\n\u001b[0;32m    854\u001b[0m   \u001b[38;5;28mself\u001b[39m\u001b[38;5;241m.\u001b[39m_lock\u001b[38;5;241m.\u001b[39mrelease()\n\u001b[0;32m    855\u001b[0m   \u001b[38;5;66;03m# In this case we have created variables on the first call, so we run the\u001b[39;00m\n\u001b[0;32m    856\u001b[0m   \u001b[38;5;66;03m# defunned version which is guaranteed to never create variables.\u001b[39;00m\n\u001b[1;32m--> 857\u001b[0m   \u001b[38;5;28;01mreturn\u001b[39;00m \u001b[38;5;28;43mself\u001b[39;49m\u001b[38;5;241;43m.\u001b[39;49m\u001b[43m_no_variable_creation_fn\u001b[49m\u001b[43m(\u001b[49m\u001b[38;5;241;43m*\u001b[39;49m\u001b[43margs\u001b[49m\u001b[43m,\u001b[49m\u001b[43m \u001b[49m\u001b[38;5;241;43m*\u001b[39;49m\u001b[38;5;241;43m*\u001b[39;49m\u001b[43mkwds\u001b[49m\u001b[43m)\u001b[49m  \u001b[38;5;66;03m# pylint: disable=not-callable\u001b[39;00m\n\u001b[0;32m    858\u001b[0m \u001b[38;5;28;01melif\u001b[39;00m \u001b[38;5;28mself\u001b[39m\u001b[38;5;241m.\u001b[39m_variable_creation_fn \u001b[38;5;129;01mis\u001b[39;00m \u001b[38;5;129;01mnot\u001b[39;00m \u001b[38;5;28;01mNone\u001b[39;00m:\n\u001b[0;32m    859\u001b[0m   \u001b[38;5;66;03m# Release the lock early so that multiple threads can perform the call\u001b[39;00m\n\u001b[0;32m    860\u001b[0m   \u001b[38;5;66;03m# in parallel.\u001b[39;00m\n\u001b[0;32m    861\u001b[0m   \u001b[38;5;28mself\u001b[39m\u001b[38;5;241m.\u001b[39m_lock\u001b[38;5;241m.\u001b[39mrelease()\n",
      "File \u001b[1;32m~\\anaconda3\\envs\\py38\\lib\\site-packages\\tensorflow\\python\\eager\\polymorphic_function\\tracing_compiler.py:148\u001b[0m, in \u001b[0;36mTracingCompiler.__call__\u001b[1;34m(self, *args, **kwargs)\u001b[0m\n\u001b[0;32m    145\u001b[0m \u001b[38;5;28;01mwith\u001b[39;00m \u001b[38;5;28mself\u001b[39m\u001b[38;5;241m.\u001b[39m_lock:\n\u001b[0;32m    146\u001b[0m   (concrete_function,\n\u001b[0;32m    147\u001b[0m    filtered_flat_args) \u001b[38;5;241m=\u001b[39m \u001b[38;5;28mself\u001b[39m\u001b[38;5;241m.\u001b[39m_maybe_define_function(args, kwargs)\n\u001b[1;32m--> 148\u001b[0m \u001b[38;5;28;01mreturn\u001b[39;00m \u001b[43mconcrete_function\u001b[49m\u001b[38;5;241;43m.\u001b[39;49m\u001b[43m_call_flat\u001b[49m\u001b[43m(\u001b[49m\n\u001b[0;32m    149\u001b[0m \u001b[43m    \u001b[49m\u001b[43mfiltered_flat_args\u001b[49m\u001b[43m,\u001b[49m\u001b[43m \u001b[49m\u001b[43mcaptured_inputs\u001b[49m\u001b[38;5;241;43m=\u001b[39;49m\u001b[43mconcrete_function\u001b[49m\u001b[38;5;241;43m.\u001b[39;49m\u001b[43mcaptured_inputs\u001b[49m\u001b[43m)\u001b[49m\n",
      "File \u001b[1;32m~\\anaconda3\\envs\\py38\\lib\\site-packages\\tensorflow\\python\\eager\\polymorphic_function\\monomorphic_function.py:1349\u001b[0m, in \u001b[0;36mConcreteFunction._call_flat\u001b[1;34m(self, args, captured_inputs)\u001b[0m\n\u001b[0;32m   1345\u001b[0m possible_gradient_type \u001b[38;5;241m=\u001b[39m gradients_util\u001b[38;5;241m.\u001b[39mPossibleTapeGradientTypes(args)\n\u001b[0;32m   1346\u001b[0m \u001b[38;5;28;01mif\u001b[39;00m (possible_gradient_type \u001b[38;5;241m==\u001b[39m gradients_util\u001b[38;5;241m.\u001b[39mPOSSIBLE_GRADIENT_TYPES_NONE\n\u001b[0;32m   1347\u001b[0m     \u001b[38;5;129;01mand\u001b[39;00m executing_eagerly):\n\u001b[0;32m   1348\u001b[0m   \u001b[38;5;66;03m# No tape is watching; skip to running the function.\u001b[39;00m\n\u001b[1;32m-> 1349\u001b[0m   \u001b[38;5;28;01mreturn\u001b[39;00m \u001b[38;5;28mself\u001b[39m\u001b[38;5;241m.\u001b[39m_build_call_outputs(\u001b[38;5;28;43mself\u001b[39;49m\u001b[38;5;241;43m.\u001b[39;49m\u001b[43m_inference_function\u001b[49m\u001b[43m(\u001b[49m\u001b[38;5;241;43m*\u001b[39;49m\u001b[43margs\u001b[49m\u001b[43m)\u001b[49m)\n\u001b[0;32m   1350\u001b[0m forward_backward \u001b[38;5;241m=\u001b[39m \u001b[38;5;28mself\u001b[39m\u001b[38;5;241m.\u001b[39m_select_forward_and_backward_functions(\n\u001b[0;32m   1351\u001b[0m     args,\n\u001b[0;32m   1352\u001b[0m     possible_gradient_type,\n\u001b[0;32m   1353\u001b[0m     executing_eagerly)\n\u001b[0;32m   1354\u001b[0m forward_function, args_with_tangents \u001b[38;5;241m=\u001b[39m forward_backward\u001b[38;5;241m.\u001b[39mforward()\n",
      "File \u001b[1;32m~\\anaconda3\\envs\\py38\\lib\\site-packages\\tensorflow\\python\\eager\\polymorphic_function\\atomic_function.py:196\u001b[0m, in \u001b[0;36mAtomicFunction.__call__\u001b[1;34m(self, *args)\u001b[0m\n\u001b[0;32m    194\u001b[0m \u001b[38;5;28;01mwith\u001b[39;00m record\u001b[38;5;241m.\u001b[39mstop_recording():\n\u001b[0;32m    195\u001b[0m   \u001b[38;5;28;01mif\u001b[39;00m \u001b[38;5;28mself\u001b[39m\u001b[38;5;241m.\u001b[39m_bound_context\u001b[38;5;241m.\u001b[39mexecuting_eagerly():\n\u001b[1;32m--> 196\u001b[0m     outputs \u001b[38;5;241m=\u001b[39m \u001b[38;5;28;43mself\u001b[39;49m\u001b[38;5;241;43m.\u001b[39;49m\u001b[43m_bound_context\u001b[49m\u001b[38;5;241;43m.\u001b[39;49m\u001b[43mcall_function\u001b[49m\u001b[43m(\u001b[49m\n\u001b[0;32m    197\u001b[0m \u001b[43m        \u001b[49m\u001b[38;5;28;43mself\u001b[39;49m\u001b[38;5;241;43m.\u001b[39;49m\u001b[43mname\u001b[49m\u001b[43m,\u001b[49m\n\u001b[0;32m    198\u001b[0m \u001b[43m        \u001b[49m\u001b[38;5;28;43mlist\u001b[39;49m\u001b[43m(\u001b[49m\u001b[43margs\u001b[49m\u001b[43m)\u001b[49m\u001b[43m,\u001b[49m\n\u001b[0;32m    199\u001b[0m \u001b[43m        \u001b[49m\u001b[38;5;28;43mlen\u001b[39;49m\u001b[43m(\u001b[49m\u001b[38;5;28;43mself\u001b[39;49m\u001b[38;5;241;43m.\u001b[39;49m\u001b[43mfunction_type\u001b[49m\u001b[38;5;241;43m.\u001b[39;49m\u001b[43mflat_outputs\u001b[49m\u001b[43m)\u001b[49m\u001b[43m,\u001b[49m\n\u001b[0;32m    200\u001b[0m \u001b[43m    \u001b[49m\u001b[43m)\u001b[49m\n\u001b[0;32m    201\u001b[0m   \u001b[38;5;28;01melse\u001b[39;00m:\n\u001b[0;32m    202\u001b[0m     outputs \u001b[38;5;241m=\u001b[39m make_call_op_in_graph(\u001b[38;5;28mself\u001b[39m, \u001b[38;5;28mlist\u001b[39m(args))\n",
      "File \u001b[1;32m~\\anaconda3\\envs\\py38\\lib\\site-packages\\tensorflow\\python\\eager\\context.py:1457\u001b[0m, in \u001b[0;36mContext.call_function\u001b[1;34m(self, name, tensor_inputs, num_outputs)\u001b[0m\n\u001b[0;32m   1455\u001b[0m cancellation_context \u001b[38;5;241m=\u001b[39m cancellation\u001b[38;5;241m.\u001b[39mcontext()\n\u001b[0;32m   1456\u001b[0m \u001b[38;5;28;01mif\u001b[39;00m cancellation_context \u001b[38;5;129;01mis\u001b[39;00m \u001b[38;5;28;01mNone\u001b[39;00m:\n\u001b[1;32m-> 1457\u001b[0m   outputs \u001b[38;5;241m=\u001b[39m \u001b[43mexecute\u001b[49m\u001b[38;5;241;43m.\u001b[39;49m\u001b[43mexecute\u001b[49m\u001b[43m(\u001b[49m\n\u001b[0;32m   1458\u001b[0m \u001b[43m      \u001b[49m\u001b[43mname\u001b[49m\u001b[38;5;241;43m.\u001b[39;49m\u001b[43mdecode\u001b[49m\u001b[43m(\u001b[49m\u001b[38;5;124;43m\"\u001b[39;49m\u001b[38;5;124;43mutf-8\u001b[39;49m\u001b[38;5;124;43m\"\u001b[39;49m\u001b[43m)\u001b[49m\u001b[43m,\u001b[49m\n\u001b[0;32m   1459\u001b[0m \u001b[43m      \u001b[49m\u001b[43mnum_outputs\u001b[49m\u001b[38;5;241;43m=\u001b[39;49m\u001b[43mnum_outputs\u001b[49m\u001b[43m,\u001b[49m\n\u001b[0;32m   1460\u001b[0m \u001b[43m      \u001b[49m\u001b[43minputs\u001b[49m\u001b[38;5;241;43m=\u001b[39;49m\u001b[43mtensor_inputs\u001b[49m\u001b[43m,\u001b[49m\n\u001b[0;32m   1461\u001b[0m \u001b[43m      \u001b[49m\u001b[43mattrs\u001b[49m\u001b[38;5;241;43m=\u001b[39;49m\u001b[43mattrs\u001b[49m\u001b[43m,\u001b[49m\n\u001b[0;32m   1462\u001b[0m \u001b[43m      \u001b[49m\u001b[43mctx\u001b[49m\u001b[38;5;241;43m=\u001b[39;49m\u001b[38;5;28;43mself\u001b[39;49m\u001b[43m,\u001b[49m\n\u001b[0;32m   1463\u001b[0m \u001b[43m  \u001b[49m\u001b[43m)\u001b[49m\n\u001b[0;32m   1464\u001b[0m \u001b[38;5;28;01melse\u001b[39;00m:\n\u001b[0;32m   1465\u001b[0m   outputs \u001b[38;5;241m=\u001b[39m execute\u001b[38;5;241m.\u001b[39mexecute_with_cancellation(\n\u001b[0;32m   1466\u001b[0m       name\u001b[38;5;241m.\u001b[39mdecode(\u001b[38;5;124m\"\u001b[39m\u001b[38;5;124mutf-8\u001b[39m\u001b[38;5;124m\"\u001b[39m),\n\u001b[0;32m   1467\u001b[0m       num_outputs\u001b[38;5;241m=\u001b[39mnum_outputs,\n\u001b[1;32m   (...)\u001b[0m\n\u001b[0;32m   1471\u001b[0m       cancellation_manager\u001b[38;5;241m=\u001b[39mcancellation_context,\n\u001b[0;32m   1472\u001b[0m   )\n",
      "File \u001b[1;32m~\\anaconda3\\envs\\py38\\lib\\site-packages\\tensorflow\\python\\eager\\execute.py:53\u001b[0m, in \u001b[0;36mquick_execute\u001b[1;34m(op_name, num_outputs, inputs, attrs, ctx, name)\u001b[0m\n\u001b[0;32m     51\u001b[0m \u001b[38;5;28;01mtry\u001b[39;00m:\n\u001b[0;32m     52\u001b[0m   ctx\u001b[38;5;241m.\u001b[39mensure_initialized()\n\u001b[1;32m---> 53\u001b[0m   tensors \u001b[38;5;241m=\u001b[39m \u001b[43mpywrap_tfe\u001b[49m\u001b[38;5;241;43m.\u001b[39;49m\u001b[43mTFE_Py_Execute\u001b[49m\u001b[43m(\u001b[49m\u001b[43mctx\u001b[49m\u001b[38;5;241;43m.\u001b[39;49m\u001b[43m_handle\u001b[49m\u001b[43m,\u001b[49m\u001b[43m \u001b[49m\u001b[43mdevice_name\u001b[49m\u001b[43m,\u001b[49m\u001b[43m \u001b[49m\u001b[43mop_name\u001b[49m\u001b[43m,\u001b[49m\n\u001b[0;32m     54\u001b[0m \u001b[43m                                      \u001b[49m\u001b[43minputs\u001b[49m\u001b[43m,\u001b[49m\u001b[43m \u001b[49m\u001b[43mattrs\u001b[49m\u001b[43m,\u001b[49m\u001b[43m \u001b[49m\u001b[43mnum_outputs\u001b[49m\u001b[43m)\u001b[49m\n\u001b[0;32m     55\u001b[0m \u001b[38;5;28;01mexcept\u001b[39;00m core\u001b[38;5;241m.\u001b[39m_NotOkStatusException \u001b[38;5;28;01mas\u001b[39;00m e:\n\u001b[0;32m     56\u001b[0m   \u001b[38;5;28;01mif\u001b[39;00m name \u001b[38;5;129;01mis\u001b[39;00m \u001b[38;5;129;01mnot\u001b[39;00m \u001b[38;5;28;01mNone\u001b[39;00m:\n",
      "\u001b[1;31mKeyboardInterrupt\u001b[0m: "
     ]
    }
   ],
   "source": [
    "model_train.fit(X_train, y_train, epochs=2000, callbacks=[tb_callback])"
   ]
  },
  {
   "cell_type": "code",
   "execution_count": 75,
   "id": "c5883700",
   "metadata": {
    "scrolled": true
   },
   "outputs": [
    {
     "name": "stdout",
     "output_type": "stream",
     "text": [
      "Model: \"sequential_14\"\n",
      "_________________________________________________________________\n",
      " Layer (type)                Output Shape              Param #   \n",
      "=================================================================\n",
      " lstm_66 (LSTM)              (None, 30, 128)           916992    \n",
      "                                                                 \n",
      " lstm_67 (LSTM)              (None, 30, 256)           394240    \n",
      "                                                                 \n",
      " lstm_68 (LSTM)              (None, 128)               197120    \n",
      "                                                                 \n",
      " dense_42 (Dense)            (None, 128)               16512     \n",
      "                                                                 \n",
      " dense_43 (Dense)            (None, 64)                8256      \n",
      "                                                                 \n",
      " dense_44 (Dense)            (None, 5)                 325       \n",
      "                                                                 \n",
      "=================================================================\n",
      "Total params: 1533445 (5.85 MB)\n",
      "Trainable params: 1533445 (5.85 MB)\n",
      "Non-trainable params: 0 (0.00 Byte)\n",
      "_________________________________________________________________\n"
     ]
    }
   ],
   "source": [
    "model_train.summary()"
   ]
  },
  {
   "cell_type": "markdown",
   "id": "c867f16e",
   "metadata": {},
   "source": [
    "## Make predictions"
   ]
  },
  {
   "cell_type": "code",
   "execution_count": 76,
   "id": "53e735f0",
   "metadata": {},
   "outputs": [
    {
     "name": "stdout",
     "output_type": "stream",
     "text": [
      "1/1 [==============================] - 0s 382ms/step\n",
      "(12, 5)\n"
     ]
    }
   ],
   "source": [
    "res = model_train.predict(X_test)\n",
    "print(res.shape)"
   ]
  },
  {
   "cell_type": "code",
   "execution_count": 77,
   "id": "a46a8446",
   "metadata": {},
   "outputs": [
    {
     "data": {
      "text/plain": [
       "'hobi'"
      ]
     },
     "execution_count": 77,
     "metadata": {},
     "output_type": "execute_result"
    }
   ],
   "source": [
    "signs[np.argmax(res[0])]"
   ]
  },
  {
   "cell_type": "code",
   "execution_count": 78,
   "id": "46a5573a",
   "metadata": {},
   "outputs": [
    {
     "data": {
      "text/plain": [
       "'hobi'"
      ]
     },
     "execution_count": 78,
     "metadata": {},
     "output_type": "execute_result"
    }
   ],
   "source": [
    "signs[np.argmax(y_test[0])]"
   ]
  },
  {
   "cell_type": "markdown",
   "id": "a01a7e6e",
   "metadata": {},
   "source": [
    "## Save weights"
   ]
  },
  {
   "cell_type": "code",
   "execution_count": 79,
   "id": "a8c845b2",
   "metadata": {},
   "outputs": [
    {
     "name": "stdout",
     "output_type": "stream",
     "text": [
      "INFO:tensorflow:Assets written to: action_final.hS\\assets\n"
     ]
    },
    {
     "name": "stderr",
     "output_type": "stream",
     "text": [
      "INFO:tensorflow:Assets written to: action_final.hS\\assets\n"
     ]
    }
   ],
   "source": [
    "model_train.save('action_final.hS')"
   ]
  },
  {
   "cell_type": "code",
   "execution_count": 81,
   "id": "0e0ff136",
   "metadata": {},
   "outputs": [
    {
     "data": {
      "text/plain": [
       "<tensorflow.python.checkpoint.checkpoint.CheckpointLoadStatus at 0x13c1e50e790>"
      ]
     },
     "execution_count": 81,
     "metadata": {},
     "output_type": "execute_result"
    }
   ],
   "source": [
    "model_train.load_weights('action_final.hS')"
   ]
  },
  {
   "cell_type": "markdown",
   "id": "98515124",
   "metadata": {},
   "source": [
    "## Evaluation using confusion matrix and accuracy"
   ]
  },
  {
   "cell_type": "code",
   "execution_count": 82,
   "id": "fbbcf6da",
   "metadata": {},
   "outputs": [
    {
     "name": "stdout",
     "output_type": "stream",
     "text": [
      "1/1 [==============================] - 0s 61ms/step\n"
     ]
    }
   ],
   "source": [
    "y_hat = model_train.predict(X_test)"
   ]
  },
  {
   "cell_type": "code",
   "execution_count": 83,
   "id": "3e46cc12",
   "metadata": {},
   "outputs": [],
   "source": [
    "y_true = np.argmax(y_test, axis=1).tolist()\n",
    "y_hat = np.argmax(y_hat, axis=1).tolist()"
   ]
  },
  {
   "cell_type": "code",
   "execution_count": 84,
   "id": "b6190dcf",
   "metadata": {},
   "outputs": [
    {
     "data": {
      "text/plain": [
       "[2, 3, 4, 3, 2, 4, 1, 2, 1, 1, 0, 2]"
      ]
     },
     "execution_count": 84,
     "metadata": {},
     "output_type": "execute_result"
    }
   ],
   "source": [
    "y_true"
   ]
  },
  {
   "cell_type": "code",
   "execution_count": 85,
   "id": "ed224520",
   "metadata": {},
   "outputs": [
    {
     "data": {
      "text/plain": [
       "array([[[11,  0],\n",
       "        [ 0,  1]],\n",
       "\n",
       "       [[ 9,  0],\n",
       "        [ 0,  3]],\n",
       "\n",
       "       [[ 8,  0],\n",
       "        [ 0,  4]],\n",
       "\n",
       "       [[10,  0],\n",
       "        [ 0,  2]],\n",
       "\n",
       "       [[10,  0],\n",
       "        [ 0,  2]]], dtype=int64)"
      ]
     },
     "execution_count": 85,
     "metadata": {},
     "output_type": "execute_result"
    }
   ],
   "source": [
    "multilabel_confusion_matrix(y_true, y_hat)"
   ]
  },
  {
   "cell_type": "code",
   "execution_count": 86,
   "id": "53d47f24",
   "metadata": {},
   "outputs": [
    {
     "data": {
      "text/plain": [
       "1.0"
      ]
     },
     "execution_count": 86,
     "metadata": {},
     "output_type": "execute_result"
    }
   ],
   "source": [
    "accuracy_score(y_true, y_hat)"
   ]
  },
  {
   "cell_type": "markdown",
   "id": "05e094ee",
   "metadata": {},
   "source": [
    "## Test in real time"
   ]
  },
  {
   "cell_type": "code",
   "execution_count": 88,
   "id": "70241cef",
   "metadata": {},
   "outputs": [],
   "source": [
    "colors = [(245, 117, 16), (117, 245, 16), (916, 117, 245), (245, 117, 16), (117, 245, 16)]\n",
    "\n",
    "def prob_viz(res, signs, input_frame, colors):\n",
    "    output_frame = input_frame.copy()\n",
    "    for num, prob in enumerate(res):\n",
    "        cv2.rectangle(output_frame, (0, 60+num*40), (int(prob*100), 90+num*40), colors[num], -1)\n",
    "        cv2.putText(output_frame, signs[num], (0, 85+num*40), cv2.FONT_HERSHEY_SIMPLEX, 1, (255, 255,255), 2, cv2.LINE_AA)\n",
    "        \n",
    "    return output_frame"
   ]
  },
  {
   "cell_type": "code",
   "execution_count": 89,
   "id": "5febaf20",
   "metadata": {},
   "outputs": [],
   "source": [
    "# change word to speech\n",
    "def speak(word_to_speak):\n",
    "    word = gtts.gTTS(text=word_to_speak, lang=language)\n",
    "    word.save(\"kalimat.mp3\")\n",
    "    playsound(\"kalimat.mp3\")\n",
    "    if os.path.exists(\"kalimat.mp3\"):\n",
    "        os.remove(\"kalimat.mp3\")\n",
    "    else:\n",
    "        print(\"Audio file does not exists\")"
   ]
  },
  {
   "cell_type": "code",
   "execution_count": 90,
   "id": "22cc5f64",
   "metadata": {},
   "outputs": [
    {
     "name": "stdout",
     "output_type": "stream",
     "text": [
      "1/1 [==============================] - 0s 34ms/step\n",
      "halo\n",
      "1/1 [==============================] - 0s 35ms/step\n",
      "halo\n",
      "1/1 [==============================] - 0s 39ms/step\n",
      "halo\n",
      "1/1 [==============================] - 0s 31ms/step\n",
      "halo\n",
      "1/1 [==============================] - 0s 36ms/step\n",
      "halo\n",
      "1/1 [==============================] - 0s 32ms/step\n",
      "halo\n",
      "1/1 [==============================] - 0s 27ms/step\n",
      "halo\n",
      "1/1 [==============================] - 0s 29ms/step\n",
      "halo\n",
      "1/1 [==============================] - 0s 42ms/step\n",
      "halo\n",
      "1/1 [==============================] - 0s 28ms/step\n",
      "halo\n",
      "1/1 [==============================] - 0s 43ms/step\n",
      "halo\n",
      "1/1 [==============================] - 0s 26ms/step\n",
      "halo\n",
      "1/1 [==============================] - 0s 23ms/step\n",
      "halo\n",
      "1/1 [==============================] - 0s 39ms/step\n",
      "halo\n",
      "1/1 [==============================] - 0s 30ms/step\n",
      "halo\n",
      "1/1 [==============================] - 0s 28ms/step\n",
      "halo\n",
      "1/1 [==============================] - 0s 32ms/step\n",
      "halo\n",
      "1/1 [==============================] - 0s 39ms/step\n",
      "halo\n",
      "1/1 [==============================] - 0s 32ms/step\n",
      "halo\n",
      "1/1 [==============================] - 0s 32ms/step\n",
      "halo\n",
      "1/1 [==============================] - 0s 36ms/step\n",
      "halo\n",
      "1/1 [==============================] - 0s 33ms/step\n",
      "halo\n",
      "1/1 [==============================] - 0s 34ms/step\n",
      "halo\n",
      "1/1 [==============================] - 0s 33ms/step\n",
      "halo\n",
      "1/1 [==============================] - 0s 36ms/step\n",
      "halo\n",
      "1/1 [==============================] - 0s 37ms/step\n",
      "halo\n",
      "1/1 [==============================] - 0s 27ms/step\n",
      "halo\n",
      "1/1 [==============================] - 0s 32ms/step\n",
      "halo\n",
      "1/1 [==============================] - 0s 38ms/step\n",
      "halo\n",
      "1/1 [==============================] - 0s 31ms/step\n",
      "halo\n",
      "1/1 [==============================] - 0s 36ms/step\n",
      "halo\n",
      "1/1 [==============================] - 0s 36ms/step\n",
      "halo\n",
      "1/1 [==============================] - 0s 39ms/step\n",
      "halo\n",
      "1/1 [==============================] - 0s 37ms/step\n",
      "halo\n",
      "1/1 [==============================] - 0s 28ms/step\n",
      "halo\n",
      "1/1 [==============================] - 0s 36ms/step\n",
      "halo\n",
      "1/1 [==============================] - 0s 29ms/step\n",
      "halo\n",
      "1/1 [==============================] - 0s 34ms/step\n",
      "halo\n",
      "1/1 [==============================] - 0s 30ms/step\n",
      "halo\n",
      "1/1 [==============================] - 0s 38ms/step\n",
      "halo\n",
      "1/1 [==============================] - 0s 37ms/step\n",
      "halo\n",
      "1/1 [==============================] - 0s 39ms/step\n",
      "halo\n",
      "1/1 [==============================] - 0s 26ms/step\n",
      "halo\n",
      "1/1 [==============================] - 0s 37ms/step\n",
      "aku\n",
      "1/1 [==============================] - 0s 43ms/step\n",
      "aku\n",
      "1/1 [==============================] - 0s 25ms/step\n",
      "aku\n",
      "1/1 [==============================] - 0s 30ms/step\n",
      "aku\n",
      "1/1 [==============================] - 0s 37ms/step\n",
      "terimakasih\n",
      "1/1 [==============================] - 0s 34ms/step\n",
      "terimakasih\n",
      "1/1 [==============================] - 0s 36ms/step\n",
      "terimakasih\n",
      "1/1 [==============================] - 0s 34ms/step\n",
      "terimakasih\n",
      "1/1 [==============================] - 0s 28ms/step\n",
      "terimakasih\n",
      "1/1 [==============================] - 0s 28ms/step\n",
      "terimakasih\n",
      "1/1 [==============================] - 0s 31ms/step\n",
      "terimakasih\n",
      "1/1 [==============================] - 0s 37ms/step\n",
      "terimakasih\n",
      "1/1 [==============================] - 0s 38ms/step\n",
      "terimakasih\n",
      "1/1 [==============================] - 0s 28ms/step\n",
      "terimakasih\n",
      "1/1 [==============================] - 0s 41ms/step\n",
      "terimakasih\n",
      "1/1 [==============================] - 0s 30ms/step\n",
      "terimakasih\n",
      "1/1 [==============================] - 0s 28ms/step\n",
      "terimakasih\n",
      "1/1 [==============================] - 0s 28ms/step\n",
      "terimakasih\n",
      "1/1 [==============================] - 0s 38ms/step\n",
      "terimakasih\n",
      "1/1 [==============================] - 0s 42ms/step\n",
      "baca\n",
      "1/1 [==============================] - 0s 29ms/step\n",
      "baca\n",
      "1/1 [==============================] - 0s 28ms/step\n",
      "baca\n",
      "1/1 [==============================] - 0s 27ms/step\n",
      "baca\n",
      "1/1 [==============================] - 0s 40ms/step\n",
      "baca\n",
      "1/1 [==============================] - 0s 39ms/step\n",
      "baca\n",
      "1/1 [==============================] - 0s 25ms/step\n",
      "baca\n",
      "1/1 [==============================] - 0s 27ms/step\n",
      "baca\n",
      "1/1 [==============================] - 0s 22ms/step\n",
      "baca\n",
      "1/1 [==============================] - 0s 38ms/step\n",
      "baca\n",
      "1/1 [==============================] - 0s 26ms/step\n",
      "baca\n",
      "1/1 [==============================] - 0s 29ms/step\n",
      "baca\n",
      "1/1 [==============================] - 0s 37ms/step\n",
      "baca\n",
      "1/1 [==============================] - 0s 36ms/step\n",
      "baca\n",
      "1/1 [==============================] - 0s 24ms/step\n",
      "baca\n",
      "1/1 [==============================] - 0s 27ms/step\n",
      "baca\n",
      "1/1 [==============================] - 0s 33ms/step\n",
      "baca\n",
      "1/1 [==============================] - 0s 39ms/step\n",
      "baca\n",
      "1/1 [==============================] - 0s 28ms/step\n",
      "baca\n",
      "1/1 [==============================] - 0s 35ms/step\n",
      "hobi\n",
      "1/1 [==============================] - 0s 39ms/step\n",
      "hobi\n",
      "1/1 [==============================] - 0s 36ms/step\n",
      "hobi\n",
      "1/1 [==============================] - 0s 25ms/step\n",
      "hobi\n",
      "1/1 [==============================] - 0s 33ms/step\n",
      "hobi\n",
      "1/1 [==============================] - 0s 39ms/step\n",
      "hobi\n",
      "1/1 [==============================] - 0s 37ms/step\n",
      "hobi\n",
      "1/1 [==============================] - 0s 33ms/step\n",
      "hobi\n",
      "1/1 [==============================] - 0s 36ms/step\n",
      "baca\n",
      "1/1 [==============================] - 0s 33ms/step\n",
      "baca\n",
      "1/1 [==============================] - 0s 35ms/step\n",
      "baca\n",
      "1/1 [==============================] - 0s 28ms/step\n",
      "baca\n",
      "1/1 [==============================] - 0s 32ms/step\n",
      "baca\n",
      "1/1 [==============================] - 0s 29ms/step\n",
      "baca\n",
      "1/1 [==============================] - 0s 26ms/step\n",
      "baca\n",
      "1/1 [==============================] - 0s 41ms/step\n",
      "baca\n",
      "1/1 [==============================] - 0s 31ms/step\n",
      "baca\n",
      "1/1 [==============================] - 0s 27ms/step\n",
      "baca\n",
      "1/1 [==============================] - 0s 36ms/step\n",
      "baca\n",
      "1/1 [==============================] - 0s 28ms/step\n",
      "aku\n",
      "1/1 [==============================] - 0s 38ms/step\n",
      "aku\n",
      "1/1 [==============================] - 0s 26ms/step\n",
      "aku\n",
      "1/1 [==============================] - 0s 32ms/step\n",
      "aku\n",
      "1/1 [==============================] - 0s 33ms/step\n",
      "aku\n",
      "1/1 [==============================] - 0s 41ms/step\n",
      "aku\n",
      "1/1 [==============================] - 0s 32ms/step\n",
      "aku\n",
      "1/1 [==============================] - 0s 29ms/step\n",
      "aku\n",
      "1/1 [==============================] - 0s 28ms/step\n",
      "aku\n",
      "1/1 [==============================] - 0s 26ms/step\n",
      "aku\n",
      "1/1 [==============================] - 0s 34ms/step\n",
      "aku\n",
      "1/1 [==============================] - 0s 28ms/step\n",
      "aku\n",
      "1/1 [==============================] - 0s 26ms/step\n",
      "aku\n",
      "1/1 [==============================] - 0s 28ms/step\n",
      "aku\n",
      "1/1 [==============================] - 0s 37ms/step\n",
      "aku\n",
      "1/1 [==============================] - 0s 29ms/step\n",
      "terimakasih\n",
      "1/1 [==============================] - 0s 31ms/step\n",
      "terimakasih\n",
      "1/1 [==============================] - 0s 37ms/step\n",
      "terimakasih\n",
      "1/1 [==============================] - 0s 26ms/step\n",
      "terimakasih\n",
      "1/1 [==============================] - 0s 33ms/step\n",
      "terimakasih\n",
      "1/1 [==============================] - 0s 33ms/step\n",
      "terimakasih\n",
      "1/1 [==============================] - 0s 29ms/step\n",
      "terimakasih\n",
      "1/1 [==============================] - 0s 39ms/step\n",
      "terimakasih\n",
      "1/1 [==============================] - 0s 26ms/step\n",
      "terimakasih\n",
      "1/1 [==============================] - 0s 28ms/step\n",
      "terimakasih\n",
      "1/1 [==============================] - 0s 40ms/step\n",
      "terimakasih\n",
      "1/1 [==============================] - 0s 34ms/step\n",
      "terimakasih\n",
      "1/1 [==============================] - 0s 35ms/step\n",
      "terimakasih\n",
      "1/1 [==============================] - 0s 34ms/step\n",
      "terimakasih\n",
      "1/1 [==============================] - 0s 38ms/step\n",
      "terimakasih\n",
      "1/1 [==============================] - 0s 43ms/step\n",
      "terimakasih\n",
      "1/1 [==============================] - 0s 27ms/step\n",
      "terimakasih\n",
      "1/1 [==============================] - 0s 26ms/step\n",
      "terimakasih\n",
      "1/1 [==============================] - 0s 39ms/step\n",
      "terimakasih\n",
      "1/1 [==============================] - 0s 39ms/step\n",
      "terimakasih\n",
      "1/1 [==============================] - 0s 38ms/step\n",
      "terimakasih\n",
      "1/1 [==============================] - 0s 32ms/step\n",
      "terimakasih\n",
      "1/1 [==============================] - 0s 41ms/step\n",
      "terimakasih\n",
      "1/1 [==============================] - 0s 32ms/step\n",
      "terimakasih\n"
     ]
    },
    {
     "name": "stdout",
     "output_type": "stream",
     "text": [
      "1/1 [==============================] - 0s 35ms/step\n",
      "terimakasih\n",
      "1/1 [==============================] - 0s 33ms/step\n",
      "terimakasih\n",
      "1/1 [==============================] - 0s 37ms/step\n",
      "terimakasih\n",
      "1/1 [==============================] - 0s 26ms/step\n",
      "baca\n",
      "1/1 [==============================] - 0s 28ms/step\n",
      "baca\n",
      "1/1 [==============================] - 0s 37ms/step\n",
      "baca\n",
      "1/1 [==============================] - 0s 26ms/step\n",
      "baca\n",
      "1/1 [==============================] - 0s 33ms/step\n",
      "baca\n",
      "1/1 [==============================] - 0s 44ms/step\n",
      "baca\n",
      "1/1 [==============================] - 0s 37ms/step\n",
      "baca\n",
      "1/1 [==============================] - 0s 33ms/step\n",
      "baca\n",
      "1/1 [==============================] - 0s 38ms/step\n",
      "baca\n",
      "1/1 [==============================] - 0s 29ms/step\n",
      "baca\n",
      "1/1 [==============================] - 0s 28ms/step\n",
      "hobi\n",
      "1/1 [==============================] - 0s 28ms/step\n",
      "hobi\n",
      "1/1 [==============================] - 0s 27ms/step\n",
      "hobi\n",
      "1/1 [==============================] - 0s 28ms/step\n",
      "hobi\n",
      "1/1 [==============================] - 0s 41ms/step\n",
      "hobi\n",
      "1/1 [==============================] - 0s 31ms/step\n",
      "hobi\n",
      "1/1 [==============================] - 0s 33ms/step\n",
      "hobi\n",
      "1/1 [==============================] - 0s 34ms/step\n",
      "hobi\n",
      "1/1 [==============================] - 0s 39ms/step\n",
      "hobi\n",
      "WARNING:tensorflow:Detecting that an object or model or tf.train.Checkpoint is being deleted with unrestored values. See the following logs for the specific values in question. To silence these warnings, use `status.expect_partial()`. See https://www.tensorflow.org/api_docs/python/tf/train/Checkpoint#restorefor details about the status object returned by the restore function.\n"
     ]
    },
    {
     "name": "stderr",
     "output_type": "stream",
     "text": [
      "WARNING:tensorflow:Detecting that an object or model or tf.train.Checkpoint is being deleted with unrestored values. See the following logs for the specific values in question. To silence these warnings, use `status.expect_partial()`. See https://www.tensorflow.org/api_docs/python/tf/train/Checkpoint#restorefor details about the status object returned by the restore function.\n"
     ]
    },
    {
     "name": "stdout",
     "output_type": "stream",
     "text": [
      "WARNING:tensorflow:Value in checkpoint could not be found in the restored object: (root).layer_with_weights-3.kernel\n"
     ]
    },
    {
     "name": "stderr",
     "output_type": "stream",
     "text": [
      "WARNING:tensorflow:Value in checkpoint could not be found in the restored object: (root).layer_with_weights-3.kernel\n"
     ]
    },
    {
     "name": "stdout",
     "output_type": "stream",
     "text": [
      "WARNING:tensorflow:Value in checkpoint could not be found in the restored object: (root).layer_with_weights-3.bias\n"
     ]
    },
    {
     "name": "stderr",
     "output_type": "stream",
     "text": [
      "WARNING:tensorflow:Value in checkpoint could not be found in the restored object: (root).layer_with_weights-3.bias\n"
     ]
    },
    {
     "name": "stdout",
     "output_type": "stream",
     "text": [
      "WARNING:tensorflow:Value in checkpoint could not be found in the restored object: (root).layer_with_weights-4.kernel\n"
     ]
    },
    {
     "name": "stderr",
     "output_type": "stream",
     "text": [
      "WARNING:tensorflow:Value in checkpoint could not be found in the restored object: (root).layer_with_weights-4.kernel\n"
     ]
    },
    {
     "name": "stdout",
     "output_type": "stream",
     "text": [
      "WARNING:tensorflow:Value in checkpoint could not be found in the restored object: (root).layer_with_weights-4.bias\n"
     ]
    },
    {
     "name": "stderr",
     "output_type": "stream",
     "text": [
      "WARNING:tensorflow:Value in checkpoint could not be found in the restored object: (root).layer_with_weights-4.bias\n"
     ]
    },
    {
     "name": "stdout",
     "output_type": "stream",
     "text": [
      "WARNING:tensorflow:Value in checkpoint could not be found in the restored object: (root).optimizer._variables.1\n"
     ]
    },
    {
     "name": "stderr",
     "output_type": "stream",
     "text": [
      "WARNING:tensorflow:Value in checkpoint could not be found in the restored object: (root).optimizer._variables.1\n"
     ]
    },
    {
     "name": "stdout",
     "output_type": "stream",
     "text": [
      "WARNING:tensorflow:Value in checkpoint could not be found in the restored object: (root).optimizer._variables.2\n"
     ]
    },
    {
     "name": "stderr",
     "output_type": "stream",
     "text": [
      "WARNING:tensorflow:Value in checkpoint could not be found in the restored object: (root).optimizer._variables.2\n"
     ]
    },
    {
     "name": "stdout",
     "output_type": "stream",
     "text": [
      "WARNING:tensorflow:Value in checkpoint could not be found in the restored object: (root).optimizer._variables.3\n"
     ]
    },
    {
     "name": "stderr",
     "output_type": "stream",
     "text": [
      "WARNING:tensorflow:Value in checkpoint could not be found in the restored object: (root).optimizer._variables.3\n"
     ]
    },
    {
     "name": "stdout",
     "output_type": "stream",
     "text": [
      "WARNING:tensorflow:Value in checkpoint could not be found in the restored object: (root).optimizer._variables.4\n"
     ]
    },
    {
     "name": "stderr",
     "output_type": "stream",
     "text": [
      "WARNING:tensorflow:Value in checkpoint could not be found in the restored object: (root).optimizer._variables.4\n"
     ]
    },
    {
     "name": "stdout",
     "output_type": "stream",
     "text": [
      "WARNING:tensorflow:Value in checkpoint could not be found in the restored object: (root).optimizer._variables.5\n"
     ]
    },
    {
     "name": "stderr",
     "output_type": "stream",
     "text": [
      "WARNING:tensorflow:Value in checkpoint could not be found in the restored object: (root).optimizer._variables.5\n"
     ]
    },
    {
     "name": "stdout",
     "output_type": "stream",
     "text": [
      "WARNING:tensorflow:Value in checkpoint could not be found in the restored object: (root).optimizer._variables.6\n"
     ]
    },
    {
     "name": "stderr",
     "output_type": "stream",
     "text": [
      "WARNING:tensorflow:Value in checkpoint could not be found in the restored object: (root).optimizer._variables.6\n"
     ]
    },
    {
     "name": "stdout",
     "output_type": "stream",
     "text": [
      "WARNING:tensorflow:Value in checkpoint could not be found in the restored object: (root).optimizer._variables.7\n"
     ]
    },
    {
     "name": "stderr",
     "output_type": "stream",
     "text": [
      "WARNING:tensorflow:Value in checkpoint could not be found in the restored object: (root).optimizer._variables.7\n"
     ]
    },
    {
     "name": "stdout",
     "output_type": "stream",
     "text": [
      "WARNING:tensorflow:Value in checkpoint could not be found in the restored object: (root).optimizer._variables.8\n"
     ]
    },
    {
     "name": "stderr",
     "output_type": "stream",
     "text": [
      "WARNING:tensorflow:Value in checkpoint could not be found in the restored object: (root).optimizer._variables.8\n"
     ]
    },
    {
     "name": "stdout",
     "output_type": "stream",
     "text": [
      "WARNING:tensorflow:Value in checkpoint could not be found in the restored object: (root).optimizer._variables.9\n"
     ]
    },
    {
     "name": "stderr",
     "output_type": "stream",
     "text": [
      "WARNING:tensorflow:Value in checkpoint could not be found in the restored object: (root).optimizer._variables.9\n"
     ]
    },
    {
     "name": "stdout",
     "output_type": "stream",
     "text": [
      "WARNING:tensorflow:Value in checkpoint could not be found in the restored object: (root).optimizer._variables.10\n"
     ]
    },
    {
     "name": "stderr",
     "output_type": "stream",
     "text": [
      "WARNING:tensorflow:Value in checkpoint could not be found in the restored object: (root).optimizer._variables.10\n"
     ]
    },
    {
     "name": "stdout",
     "output_type": "stream",
     "text": [
      "WARNING:tensorflow:Value in checkpoint could not be found in the restored object: (root).optimizer._variables.11\n"
     ]
    },
    {
     "name": "stderr",
     "output_type": "stream",
     "text": [
      "WARNING:tensorflow:Value in checkpoint could not be found in the restored object: (root).optimizer._variables.11\n"
     ]
    },
    {
     "name": "stdout",
     "output_type": "stream",
     "text": [
      "WARNING:tensorflow:Value in checkpoint could not be found in the restored object: (root).optimizer._variables.12\n"
     ]
    },
    {
     "name": "stderr",
     "output_type": "stream",
     "text": [
      "WARNING:tensorflow:Value in checkpoint could not be found in the restored object: (root).optimizer._variables.12\n"
     ]
    },
    {
     "name": "stdout",
     "output_type": "stream",
     "text": [
      "WARNING:tensorflow:Value in checkpoint could not be found in the restored object: (root).optimizer._variables.13\n"
     ]
    },
    {
     "name": "stderr",
     "output_type": "stream",
     "text": [
      "WARNING:tensorflow:Value in checkpoint could not be found in the restored object: (root).optimizer._variables.13\n"
     ]
    },
    {
     "name": "stdout",
     "output_type": "stream",
     "text": [
      "WARNING:tensorflow:Value in checkpoint could not be found in the restored object: (root).optimizer._variables.14\n"
     ]
    },
    {
     "name": "stderr",
     "output_type": "stream",
     "text": [
      "WARNING:tensorflow:Value in checkpoint could not be found in the restored object: (root).optimizer._variables.14\n"
     ]
    },
    {
     "name": "stdout",
     "output_type": "stream",
     "text": [
      "WARNING:tensorflow:Value in checkpoint could not be found in the restored object: (root).optimizer._variables.15\n"
     ]
    },
    {
     "name": "stderr",
     "output_type": "stream",
     "text": [
      "WARNING:tensorflow:Value in checkpoint could not be found in the restored object: (root).optimizer._variables.15\n"
     ]
    },
    {
     "name": "stdout",
     "output_type": "stream",
     "text": [
      "WARNING:tensorflow:Value in checkpoint could not be found in the restored object: (root).optimizer._variables.16\n"
     ]
    },
    {
     "name": "stderr",
     "output_type": "stream",
     "text": [
      "WARNING:tensorflow:Value in checkpoint could not be found in the restored object: (root).optimizer._variables.16\n"
     ]
    },
    {
     "name": "stdout",
     "output_type": "stream",
     "text": [
      "WARNING:tensorflow:Value in checkpoint could not be found in the restored object: (root).optimizer._variables.17\n"
     ]
    },
    {
     "name": "stderr",
     "output_type": "stream",
     "text": [
      "WARNING:tensorflow:Value in checkpoint could not be found in the restored object: (root).optimizer._variables.17\n"
     ]
    },
    {
     "name": "stdout",
     "output_type": "stream",
     "text": [
      "WARNING:tensorflow:Value in checkpoint could not be found in the restored object: (root).optimizer._variables.18\n"
     ]
    },
    {
     "name": "stderr",
     "output_type": "stream",
     "text": [
      "WARNING:tensorflow:Value in checkpoint could not be found in the restored object: (root).optimizer._variables.18\n"
     ]
    },
    {
     "name": "stdout",
     "output_type": "stream",
     "text": [
      "WARNING:tensorflow:Value in checkpoint could not be found in the restored object: (root).optimizer._variables.19\n"
     ]
    },
    {
     "name": "stderr",
     "output_type": "stream",
     "text": [
      "WARNING:tensorflow:Value in checkpoint could not be found in the restored object: (root).optimizer._variables.19\n"
     ]
    },
    {
     "name": "stdout",
     "output_type": "stream",
     "text": [
      "WARNING:tensorflow:Value in checkpoint could not be found in the restored object: (root).optimizer._variables.20\n"
     ]
    },
    {
     "name": "stderr",
     "output_type": "stream",
     "text": [
      "WARNING:tensorflow:Value in checkpoint could not be found in the restored object: (root).optimizer._variables.20\n"
     ]
    },
    {
     "name": "stdout",
     "output_type": "stream",
     "text": [
      "WARNING:tensorflow:Value in checkpoint could not be found in the restored object: (root).optimizer._variables.21\n"
     ]
    },
    {
     "name": "stderr",
     "output_type": "stream",
     "text": [
      "WARNING:tensorflow:Value in checkpoint could not be found in the restored object: (root).optimizer._variables.21\n"
     ]
    },
    {
     "name": "stdout",
     "output_type": "stream",
     "text": [
      "WARNING:tensorflow:Value in checkpoint could not be found in the restored object: (root).optimizer._variables.22\n"
     ]
    },
    {
     "name": "stderr",
     "output_type": "stream",
     "text": [
      "WARNING:tensorflow:Value in checkpoint could not be found in the restored object: (root).optimizer._variables.22\n"
     ]
    },
    {
     "name": "stdout",
     "output_type": "stream",
     "text": [
      "WARNING:tensorflow:Value in checkpoint could not be found in the restored object: (root).optimizer._variables.23\n"
     ]
    },
    {
     "name": "stderr",
     "output_type": "stream",
     "text": [
      "WARNING:tensorflow:Value in checkpoint could not be found in the restored object: (root).optimizer._variables.23\n"
     ]
    },
    {
     "name": "stdout",
     "output_type": "stream",
     "text": [
      "WARNING:tensorflow:Value in checkpoint could not be found in the restored object: (root).optimizer._variables.24\n"
     ]
    },
    {
     "name": "stderr",
     "output_type": "stream",
     "text": [
      "WARNING:tensorflow:Value in checkpoint could not be found in the restored object: (root).optimizer._variables.24\n"
     ]
    },
    {
     "name": "stdout",
     "output_type": "stream",
     "text": [
      "WARNING:tensorflow:Value in checkpoint could not be found in the restored object: (root).optimizer._variables.25\n"
     ]
    },
    {
     "name": "stderr",
     "output_type": "stream",
     "text": [
      "WARNING:tensorflow:Value in checkpoint could not be found in the restored object: (root).optimizer._variables.25\n"
     ]
    },
    {
     "name": "stdout",
     "output_type": "stream",
     "text": [
      "WARNING:tensorflow:Value in checkpoint could not be found in the restored object: (root).optimizer._variables.26\n"
     ]
    },
    {
     "name": "stderr",
     "output_type": "stream",
     "text": [
      "WARNING:tensorflow:Value in checkpoint could not be found in the restored object: (root).optimizer._variables.26\n"
     ]
    },
    {
     "name": "stdout",
     "output_type": "stream",
     "text": [
      "WARNING:tensorflow:Value in checkpoint could not be found in the restored object: (root).optimizer._variables.27\n"
     ]
    },
    {
     "name": "stderr",
     "output_type": "stream",
     "text": [
      "WARNING:tensorflow:Value in checkpoint could not be found in the restored object: (root).optimizer._variables.27\n"
     ]
    },
    {
     "name": "stdout",
     "output_type": "stream",
     "text": [
      "WARNING:tensorflow:Value in checkpoint could not be found in the restored object: (root).optimizer._variables.28\n"
     ]
    },
    {
     "name": "stderr",
     "output_type": "stream",
     "text": [
      "WARNING:tensorflow:Value in checkpoint could not be found in the restored object: (root).optimizer._variables.28\n"
     ]
    },
    {
     "name": "stdout",
     "output_type": "stream",
     "text": [
      "WARNING:tensorflow:Value in checkpoint could not be found in the restored object: (root).optimizer._variables.29\n"
     ]
    },
    {
     "name": "stderr",
     "output_type": "stream",
     "text": [
      "WARNING:tensorflow:Value in checkpoint could not be found in the restored object: (root).optimizer._variables.29\n"
     ]
    },
    {
     "name": "stdout",
     "output_type": "stream",
     "text": [
      "WARNING:tensorflow:Value in checkpoint could not be found in the restored object: (root).optimizer._variables.30\n"
     ]
    },
    {
     "name": "stderr",
     "output_type": "stream",
     "text": [
      "WARNING:tensorflow:Value in checkpoint could not be found in the restored object: (root).optimizer._variables.30\n"
     ]
    },
    {
     "name": "stdout",
     "output_type": "stream",
     "text": [
      "WARNING:tensorflow:Value in checkpoint could not be found in the restored object: (root).keras_api.metrics.0.total\n"
     ]
    },
    {
     "name": "stderr",
     "output_type": "stream",
     "text": [
      "WARNING:tensorflow:Value in checkpoint could not be found in the restored object: (root).keras_api.metrics.0.total\n"
     ]
    },
    {
     "name": "stdout",
     "output_type": "stream",
     "text": [
      "WARNING:tensorflow:Value in checkpoint could not be found in the restored object: (root).keras_api.metrics.0.count\n"
     ]
    },
    {
     "name": "stderr",
     "output_type": "stream",
     "text": [
      "WARNING:tensorflow:Value in checkpoint could not be found in the restored object: (root).keras_api.metrics.0.count\n"
     ]
    },
    {
     "name": "stdout",
     "output_type": "stream",
     "text": [
      "WARNING:tensorflow:Value in checkpoint could not be found in the restored object: (root).keras_api.metrics.1.total\n"
     ]
    },
    {
     "name": "stderr",
     "output_type": "stream",
     "text": [
      "WARNING:tensorflow:Value in checkpoint could not be found in the restored object: (root).keras_api.metrics.1.total\n"
     ]
    },
    {
     "name": "stdout",
     "output_type": "stream",
     "text": [
      "WARNING:tensorflow:Value in checkpoint could not be found in the restored object: (root).keras_api.metrics.1.count\n"
     ]
    },
    {
     "name": "stderr",
     "output_type": "stream",
     "text": [
      "WARNING:tensorflow:Value in checkpoint could not be found in the restored object: (root).keras_api.metrics.1.count\n"
     ]
    },
    {
     "name": "stdout",
     "output_type": "stream",
     "text": [
      "WARNING:tensorflow:Detecting that an object or model or tf.train.Checkpoint is being deleted with unrestored values. See the following logs for the specific values in question. To silence these warnings, use `status.expect_partial()`. See https://www.tensorflow.org/api_docs/python/tf/train/Checkpoint#restorefor details about the status object returned by the restore function.\n"
     ]
    },
    {
     "name": "stderr",
     "output_type": "stream",
     "text": [
      "WARNING:tensorflow:Detecting that an object or model or tf.train.Checkpoint is being deleted with unrestored values. See the following logs for the specific values in question. To silence these warnings, use `status.expect_partial()`. See https://www.tensorflow.org/api_docs/python/tf/train/Checkpoint#restorefor details about the status object returned by the restore function.\n"
     ]
    },
    {
     "name": "stdout",
     "output_type": "stream",
     "text": [
      "WARNING:tensorflow:Value in checkpoint could not be found in the restored object: (root).layer_with_weights-3.kernel\n"
     ]
    },
    {
     "name": "stderr",
     "output_type": "stream",
     "text": [
      "WARNING:tensorflow:Value in checkpoint could not be found in the restored object: (root).layer_with_weights-3.kernel\n"
     ]
    },
    {
     "name": "stdout",
     "output_type": "stream",
     "text": [
      "WARNING:tensorflow:Value in checkpoint could not be found in the restored object: (root).layer_with_weights-3.bias\n"
     ]
    },
    {
     "name": "stderr",
     "output_type": "stream",
     "text": [
      "WARNING:tensorflow:Value in checkpoint could not be found in the restored object: (root).layer_with_weights-3.bias\n"
     ]
    },
    {
     "name": "stdout",
     "output_type": "stream",
     "text": [
      "WARNING:tensorflow:Value in checkpoint could not be found in the restored object: (root).layer_with_weights-4.kernel\n"
     ]
    },
    {
     "name": "stderr",
     "output_type": "stream",
     "text": [
      "WARNING:tensorflow:Value in checkpoint could not be found in the restored object: (root).layer_with_weights-4.kernel\n"
     ]
    },
    {
     "name": "stdout",
     "output_type": "stream",
     "text": [
      "WARNING:tensorflow:Value in checkpoint could not be found in the restored object: (root).layer_with_weights-4.bias\n"
     ]
    },
    {
     "name": "stderr",
     "output_type": "stream",
     "text": [
      "WARNING:tensorflow:Value in checkpoint could not be found in the restored object: (root).layer_with_weights-4.bias\n"
     ]
    },
    {
     "name": "stdout",
     "output_type": "stream",
     "text": [
      "WARNING:tensorflow:Value in checkpoint could not be found in the restored object: (root).optimizer._variables.1\n"
     ]
    },
    {
     "name": "stderr",
     "output_type": "stream",
     "text": [
      "WARNING:tensorflow:Value in checkpoint could not be found in the restored object: (root).optimizer._variables.1\n"
     ]
    },
    {
     "name": "stdout",
     "output_type": "stream",
     "text": [
      "WARNING:tensorflow:Value in checkpoint could not be found in the restored object: (root).optimizer._variables.2\n"
     ]
    },
    {
     "name": "stderr",
     "output_type": "stream",
     "text": [
      "WARNING:tensorflow:Value in checkpoint could not be found in the restored object: (root).optimizer._variables.2\n"
     ]
    },
    {
     "name": "stdout",
     "output_type": "stream",
     "text": [
      "WARNING:tensorflow:Value in checkpoint could not be found in the restored object: (root).optimizer._variables.3\n"
     ]
    },
    {
     "name": "stderr",
     "output_type": "stream",
     "text": [
      "WARNING:tensorflow:Value in checkpoint could not be found in the restored object: (root).optimizer._variables.3\n"
     ]
    },
    {
     "name": "stdout",
     "output_type": "stream",
     "text": [
      "WARNING:tensorflow:Value in checkpoint could not be found in the restored object: (root).optimizer._variables.4\n"
     ]
    },
    {
     "name": "stderr",
     "output_type": "stream",
     "text": [
      "WARNING:tensorflow:Value in checkpoint could not be found in the restored object: (root).optimizer._variables.4\n"
     ]
    },
    {
     "name": "stdout",
     "output_type": "stream",
     "text": [
      "WARNING:tensorflow:Value in checkpoint could not be found in the restored object: (root).optimizer._variables.5\n"
     ]
    },
    {
     "name": "stderr",
     "output_type": "stream",
     "text": [
      "WARNING:tensorflow:Value in checkpoint could not be found in the restored object: (root).optimizer._variables.5\n"
     ]
    },
    {
     "name": "stdout",
     "output_type": "stream",
     "text": [
      "WARNING:tensorflow:Value in checkpoint could not be found in the restored object: (root).optimizer._variables.6\n"
     ]
    },
    {
     "name": "stderr",
     "output_type": "stream",
     "text": [
      "WARNING:tensorflow:Value in checkpoint could not be found in the restored object: (root).optimizer._variables.6\n"
     ]
    },
    {
     "name": "stdout",
     "output_type": "stream",
     "text": [
      "WARNING:tensorflow:Value in checkpoint could not be found in the restored object: (root).optimizer._variables.7\n"
     ]
    },
    {
     "name": "stderr",
     "output_type": "stream",
     "text": [
      "WARNING:tensorflow:Value in checkpoint could not be found in the restored object: (root).optimizer._variables.7\n"
     ]
    },
    {
     "name": "stdout",
     "output_type": "stream",
     "text": [
      "WARNING:tensorflow:Value in checkpoint could not be found in the restored object: (root).optimizer._variables.8\n"
     ]
    },
    {
     "name": "stderr",
     "output_type": "stream",
     "text": [
      "WARNING:tensorflow:Value in checkpoint could not be found in the restored object: (root).optimizer._variables.8\n"
     ]
    },
    {
     "name": "stdout",
     "output_type": "stream",
     "text": [
      "WARNING:tensorflow:Value in checkpoint could not be found in the restored object: (root).optimizer._variables.9\n"
     ]
    },
    {
     "name": "stderr",
     "output_type": "stream",
     "text": [
      "WARNING:tensorflow:Value in checkpoint could not be found in the restored object: (root).optimizer._variables.9\n"
     ]
    },
    {
     "name": "stdout",
     "output_type": "stream",
     "text": [
      "WARNING:tensorflow:Value in checkpoint could not be found in the restored object: (root).optimizer._variables.10\n"
     ]
    },
    {
     "name": "stderr",
     "output_type": "stream",
     "text": [
      "WARNING:tensorflow:Value in checkpoint could not be found in the restored object: (root).optimizer._variables.10\n"
     ]
    },
    {
     "name": "stdout",
     "output_type": "stream",
     "text": [
      "WARNING:tensorflow:Value in checkpoint could not be found in the restored object: (root).optimizer._variables.11\n"
     ]
    },
    {
     "name": "stderr",
     "output_type": "stream",
     "text": [
      "WARNING:tensorflow:Value in checkpoint could not be found in the restored object: (root).optimizer._variables.11\n"
     ]
    },
    {
     "name": "stdout",
     "output_type": "stream",
     "text": [
      "WARNING:tensorflow:Value in checkpoint could not be found in the restored object: (root).optimizer._variables.12\n"
     ]
    },
    {
     "name": "stderr",
     "output_type": "stream",
     "text": [
      "WARNING:tensorflow:Value in checkpoint could not be found in the restored object: (root).optimizer._variables.12\n"
     ]
    },
    {
     "name": "stdout",
     "output_type": "stream",
     "text": [
      "WARNING:tensorflow:Value in checkpoint could not be found in the restored object: (root).optimizer._variables.13\n"
     ]
    },
    {
     "name": "stderr",
     "output_type": "stream",
     "text": [
      "WARNING:tensorflow:Value in checkpoint could not be found in the restored object: (root).optimizer._variables.13\n"
     ]
    },
    {
     "name": "stdout",
     "output_type": "stream",
     "text": [
      "WARNING:tensorflow:Value in checkpoint could not be found in the restored object: (root).optimizer._variables.14\n"
     ]
    },
    {
     "name": "stderr",
     "output_type": "stream",
     "text": [
      "WARNING:tensorflow:Value in checkpoint could not be found in the restored object: (root).optimizer._variables.14\n"
     ]
    },
    {
     "name": "stdout",
     "output_type": "stream",
     "text": [
      "WARNING:tensorflow:Value in checkpoint could not be found in the restored object: (root).optimizer._variables.15\n"
     ]
    },
    {
     "name": "stderr",
     "output_type": "stream",
     "text": [
      "WARNING:tensorflow:Value in checkpoint could not be found in the restored object: (root).optimizer._variables.15\n"
     ]
    },
    {
     "name": "stdout",
     "output_type": "stream",
     "text": [
      "WARNING:tensorflow:Value in checkpoint could not be found in the restored object: (root).optimizer._variables.16\n"
     ]
    },
    {
     "name": "stderr",
     "output_type": "stream",
     "text": [
      "WARNING:tensorflow:Value in checkpoint could not be found in the restored object: (root).optimizer._variables.16\n"
     ]
    },
    {
     "name": "stdout",
     "output_type": "stream",
     "text": [
      "WARNING:tensorflow:Value in checkpoint could not be found in the restored object: (root).optimizer._variables.17\n"
     ]
    },
    {
     "name": "stderr",
     "output_type": "stream",
     "text": [
      "WARNING:tensorflow:Value in checkpoint could not be found in the restored object: (root).optimizer._variables.17\n"
     ]
    },
    {
     "name": "stdout",
     "output_type": "stream",
     "text": [
      "WARNING:tensorflow:Value in checkpoint could not be found in the restored object: (root).optimizer._variables.18\n"
     ]
    },
    {
     "name": "stderr",
     "output_type": "stream",
     "text": [
      "WARNING:tensorflow:Value in checkpoint could not be found in the restored object: (root).optimizer._variables.18\n"
     ]
    },
    {
     "name": "stdout",
     "output_type": "stream",
     "text": [
      "WARNING:tensorflow:Value in checkpoint could not be found in the restored object: (root).optimizer._variables.19\n"
     ]
    },
    {
     "name": "stderr",
     "output_type": "stream",
     "text": [
      "WARNING:tensorflow:Value in checkpoint could not be found in the restored object: (root).optimizer._variables.19\n"
     ]
    },
    {
     "name": "stdout",
     "output_type": "stream",
     "text": [
      "WARNING:tensorflow:Value in checkpoint could not be found in the restored object: (root).optimizer._variables.20\n"
     ]
    },
    {
     "name": "stderr",
     "output_type": "stream",
     "text": [
      "WARNING:tensorflow:Value in checkpoint could not be found in the restored object: (root).optimizer._variables.20\n"
     ]
    },
    {
     "name": "stdout",
     "output_type": "stream",
     "text": [
      "WARNING:tensorflow:Value in checkpoint could not be found in the restored object: (root).optimizer._variables.21\n"
     ]
    },
    {
     "name": "stderr",
     "output_type": "stream",
     "text": [
      "WARNING:tensorflow:Value in checkpoint could not be found in the restored object: (root).optimizer._variables.21\n"
     ]
    },
    {
     "name": "stdout",
     "output_type": "stream",
     "text": [
      "WARNING:tensorflow:Value in checkpoint could not be found in the restored object: (root).optimizer._variables.22\n"
     ]
    },
    {
     "name": "stderr",
     "output_type": "stream",
     "text": [
      "WARNING:tensorflow:Value in checkpoint could not be found in the restored object: (root).optimizer._variables.22\n"
     ]
    },
    {
     "name": "stdout",
     "output_type": "stream",
     "text": [
      "WARNING:tensorflow:Value in checkpoint could not be found in the restored object: (root).optimizer._variables.23\n"
     ]
    },
    {
     "name": "stderr",
     "output_type": "stream",
     "text": [
      "WARNING:tensorflow:Value in checkpoint could not be found in the restored object: (root).optimizer._variables.23\n"
     ]
    },
    {
     "name": "stdout",
     "output_type": "stream",
     "text": [
      "WARNING:tensorflow:Value in checkpoint could not be found in the restored object: (root).optimizer._variables.24\n"
     ]
    },
    {
     "name": "stderr",
     "output_type": "stream",
     "text": [
      "WARNING:tensorflow:Value in checkpoint could not be found in the restored object: (root).optimizer._variables.24\n"
     ]
    },
    {
     "name": "stdout",
     "output_type": "stream",
     "text": [
      "WARNING:tensorflow:Value in checkpoint could not be found in the restored object: (root).optimizer._variables.25\n"
     ]
    },
    {
     "name": "stderr",
     "output_type": "stream",
     "text": [
      "WARNING:tensorflow:Value in checkpoint could not be found in the restored object: (root).optimizer._variables.25\n"
     ]
    },
    {
     "name": "stdout",
     "output_type": "stream",
     "text": [
      "WARNING:tensorflow:Value in checkpoint could not be found in the restored object: (root).optimizer._variables.26\n"
     ]
    },
    {
     "name": "stderr",
     "output_type": "stream",
     "text": [
      "WARNING:tensorflow:Value in checkpoint could not be found in the restored object: (root).optimizer._variables.26\n"
     ]
    },
    {
     "name": "stdout",
     "output_type": "stream",
     "text": [
      "WARNING:tensorflow:Value in checkpoint could not be found in the restored object: (root).optimizer._variables.27\n"
     ]
    },
    {
     "name": "stderr",
     "output_type": "stream",
     "text": [
      "WARNING:tensorflow:Value in checkpoint could not be found in the restored object: (root).optimizer._variables.27\n"
     ]
    },
    {
     "name": "stdout",
     "output_type": "stream",
     "text": [
      "WARNING:tensorflow:Value in checkpoint could not be found in the restored object: (root).optimizer._variables.28\n"
     ]
    },
    {
     "name": "stderr",
     "output_type": "stream",
     "text": [
      "WARNING:tensorflow:Value in checkpoint could not be found in the restored object: (root).optimizer._variables.28\n"
     ]
    },
    {
     "name": "stdout",
     "output_type": "stream",
     "text": [
      "WARNING:tensorflow:Value in checkpoint could not be found in the restored object: (root).optimizer._variables.29\n"
     ]
    },
    {
     "name": "stderr",
     "output_type": "stream",
     "text": [
      "WARNING:tensorflow:Value in checkpoint could not be found in the restored object: (root).optimizer._variables.29\n"
     ]
    },
    {
     "name": "stdout",
     "output_type": "stream",
     "text": [
      "WARNING:tensorflow:Value in checkpoint could not be found in the restored object: (root).optimizer._variables.30\n"
     ]
    },
    {
     "name": "stderr",
     "output_type": "stream",
     "text": [
      "WARNING:tensorflow:Value in checkpoint could not be found in the restored object: (root).optimizer._variables.30\n"
     ]
    },
    {
     "name": "stdout",
     "output_type": "stream",
     "text": [
      "WARNING:tensorflow:Value in checkpoint could not be found in the restored object: (root).keras_api.metrics.0.total\n"
     ]
    },
    {
     "name": "stderr",
     "output_type": "stream",
     "text": [
      "WARNING:tensorflow:Value in checkpoint could not be found in the restored object: (root).keras_api.metrics.0.total\n"
     ]
    },
    {
     "name": "stdout",
     "output_type": "stream",
     "text": [
      "WARNING:tensorflow:Value in checkpoint could not be found in the restored object: (root).keras_api.metrics.0.count\n"
     ]
    },
    {
     "name": "stderr",
     "output_type": "stream",
     "text": [
      "WARNING:tensorflow:Value in checkpoint could not be found in the restored object: (root).keras_api.metrics.0.count\n"
     ]
    },
    {
     "name": "stdout",
     "output_type": "stream",
     "text": [
      "WARNING:tensorflow:Value in checkpoint could not be found in the restored object: (root).keras_api.metrics.1.total\n"
     ]
    },
    {
     "name": "stderr",
     "output_type": "stream",
     "text": [
      "WARNING:tensorflow:Value in checkpoint could not be found in the restored object: (root).keras_api.metrics.1.total\n"
     ]
    },
    {
     "name": "stdout",
     "output_type": "stream",
     "text": [
      "WARNING:tensorflow:Value in checkpoint could not be found in the restored object: (root).keras_api.metrics.1.count\n"
     ]
    },
    {
     "name": "stderr",
     "output_type": "stream",
     "text": [
      "WARNING:tensorflow:Value in checkpoint could not be found in the restored object: (root).keras_api.metrics.1.count\n"
     ]
    },
    {
     "name": "stdout",
     "output_type": "stream",
     "text": [
      "WARNING:tensorflow:Detecting that an object or model or tf.train.Checkpoint is being deleted with unrestored values. See the following logs for the specific values in question. To silence these warnings, use `status.expect_partial()`. See https://www.tensorflow.org/api_docs/python/tf/train/Checkpoint#restorefor details about the status object returned by the restore function.\n"
     ]
    },
    {
     "name": "stderr",
     "output_type": "stream",
     "text": [
      "WARNING:tensorflow:Detecting that an object or model or tf.train.Checkpoint is being deleted with unrestored values. See the following logs for the specific values in question. To silence these warnings, use `status.expect_partial()`. See https://www.tensorflow.org/api_docs/python/tf/train/Checkpoint#restorefor details about the status object returned by the restore function.\n"
     ]
    },
    {
     "name": "stdout",
     "output_type": "stream",
     "text": [
      "WARNING:tensorflow:Value in checkpoint could not be found in the restored object: (root).layer_with_weights-3.kernel\n"
     ]
    },
    {
     "name": "stderr",
     "output_type": "stream",
     "text": [
      "WARNING:tensorflow:Value in checkpoint could not be found in the restored object: (root).layer_with_weights-3.kernel\n"
     ]
    },
    {
     "name": "stdout",
     "output_type": "stream",
     "text": [
      "WARNING:tensorflow:Value in checkpoint could not be found in the restored object: (root).layer_with_weights-3.bias\n"
     ]
    },
    {
     "name": "stderr",
     "output_type": "stream",
     "text": [
      "WARNING:tensorflow:Value in checkpoint could not be found in the restored object: (root).layer_with_weights-3.bias\n"
     ]
    },
    {
     "name": "stdout",
     "output_type": "stream",
     "text": [
      "WARNING:tensorflow:Value in checkpoint could not be found in the restored object: (root).layer_with_weights-4.kernel\n"
     ]
    },
    {
     "name": "stderr",
     "output_type": "stream",
     "text": [
      "WARNING:tensorflow:Value in checkpoint could not be found in the restored object: (root).layer_with_weights-4.kernel\n"
     ]
    },
    {
     "name": "stdout",
     "output_type": "stream",
     "text": [
      "WARNING:tensorflow:Value in checkpoint could not be found in the restored object: (root).layer_with_weights-4.bias\n"
     ]
    },
    {
     "name": "stderr",
     "output_type": "stream",
     "text": [
      "WARNING:tensorflow:Value in checkpoint could not be found in the restored object: (root).layer_with_weights-4.bias\n"
     ]
    },
    {
     "name": "stdout",
     "output_type": "stream",
     "text": [
      "WARNING:tensorflow:Value in checkpoint could not be found in the restored object: (root).optimizer._variables.1\n"
     ]
    },
    {
     "name": "stderr",
     "output_type": "stream",
     "text": [
      "WARNING:tensorflow:Value in checkpoint could not be found in the restored object: (root).optimizer._variables.1\n"
     ]
    },
    {
     "name": "stdout",
     "output_type": "stream",
     "text": [
      "WARNING:tensorflow:Value in checkpoint could not be found in the restored object: (root).optimizer._variables.2\n"
     ]
    },
    {
     "name": "stderr",
     "output_type": "stream",
     "text": [
      "WARNING:tensorflow:Value in checkpoint could not be found in the restored object: (root).optimizer._variables.2\n"
     ]
    },
    {
     "name": "stdout",
     "output_type": "stream",
     "text": [
      "WARNING:tensorflow:Value in checkpoint could not be found in the restored object: (root).optimizer._variables.3\n"
     ]
    },
    {
     "name": "stderr",
     "output_type": "stream",
     "text": [
      "WARNING:tensorflow:Value in checkpoint could not be found in the restored object: (root).optimizer._variables.3\n"
     ]
    },
    {
     "name": "stdout",
     "output_type": "stream",
     "text": [
      "WARNING:tensorflow:Value in checkpoint could not be found in the restored object: (root).optimizer._variables.4\n"
     ]
    },
    {
     "name": "stderr",
     "output_type": "stream",
     "text": [
      "WARNING:tensorflow:Value in checkpoint could not be found in the restored object: (root).optimizer._variables.4\n"
     ]
    },
    {
     "name": "stdout",
     "output_type": "stream",
     "text": [
      "WARNING:tensorflow:Value in checkpoint could not be found in the restored object: (root).optimizer._variables.5\n"
     ]
    },
    {
     "name": "stderr",
     "output_type": "stream",
     "text": [
      "WARNING:tensorflow:Value in checkpoint could not be found in the restored object: (root).optimizer._variables.5\n"
     ]
    },
    {
     "name": "stdout",
     "output_type": "stream",
     "text": [
      "WARNING:tensorflow:Value in checkpoint could not be found in the restored object: (root).optimizer._variables.6\n"
     ]
    },
    {
     "name": "stderr",
     "output_type": "stream",
     "text": [
      "WARNING:tensorflow:Value in checkpoint could not be found in the restored object: (root).optimizer._variables.6\n"
     ]
    },
    {
     "name": "stdout",
     "output_type": "stream",
     "text": [
      "WARNING:tensorflow:Value in checkpoint could not be found in the restored object: (root).optimizer._variables.7\n"
     ]
    },
    {
     "name": "stderr",
     "output_type": "stream",
     "text": [
      "WARNING:tensorflow:Value in checkpoint could not be found in the restored object: (root).optimizer._variables.7\n"
     ]
    },
    {
     "name": "stdout",
     "output_type": "stream",
     "text": [
      "WARNING:tensorflow:Value in checkpoint could not be found in the restored object: (root).optimizer._variables.8\n"
     ]
    },
    {
     "name": "stderr",
     "output_type": "stream",
     "text": [
      "WARNING:tensorflow:Value in checkpoint could not be found in the restored object: (root).optimizer._variables.8\n"
     ]
    },
    {
     "name": "stdout",
     "output_type": "stream",
     "text": [
      "WARNING:tensorflow:Value in checkpoint could not be found in the restored object: (root).optimizer._variables.9\n"
     ]
    },
    {
     "name": "stderr",
     "output_type": "stream",
     "text": [
      "WARNING:tensorflow:Value in checkpoint could not be found in the restored object: (root).optimizer._variables.9\n"
     ]
    },
    {
     "name": "stdout",
     "output_type": "stream",
     "text": [
      "WARNING:tensorflow:Value in checkpoint could not be found in the restored object: (root).optimizer._variables.10\n"
     ]
    },
    {
     "name": "stderr",
     "output_type": "stream",
     "text": [
      "WARNING:tensorflow:Value in checkpoint could not be found in the restored object: (root).optimizer._variables.10\n"
     ]
    },
    {
     "name": "stdout",
     "output_type": "stream",
     "text": [
      "WARNING:tensorflow:Value in checkpoint could not be found in the restored object: (root).optimizer._variables.11\n"
     ]
    },
    {
     "name": "stderr",
     "output_type": "stream",
     "text": [
      "WARNING:tensorflow:Value in checkpoint could not be found in the restored object: (root).optimizer._variables.11\n"
     ]
    },
    {
     "name": "stdout",
     "output_type": "stream",
     "text": [
      "WARNING:tensorflow:Value in checkpoint could not be found in the restored object: (root).optimizer._variables.12\n"
     ]
    },
    {
     "name": "stderr",
     "output_type": "stream",
     "text": [
      "WARNING:tensorflow:Value in checkpoint could not be found in the restored object: (root).optimizer._variables.12\n"
     ]
    },
    {
     "name": "stdout",
     "output_type": "stream",
     "text": [
      "WARNING:tensorflow:Value in checkpoint could not be found in the restored object: (root).optimizer._variables.13\n"
     ]
    },
    {
     "name": "stderr",
     "output_type": "stream",
     "text": [
      "WARNING:tensorflow:Value in checkpoint could not be found in the restored object: (root).optimizer._variables.13\n"
     ]
    },
    {
     "name": "stdout",
     "output_type": "stream",
     "text": [
      "WARNING:tensorflow:Value in checkpoint could not be found in the restored object: (root).optimizer._variables.14\n"
     ]
    },
    {
     "name": "stderr",
     "output_type": "stream",
     "text": [
      "WARNING:tensorflow:Value in checkpoint could not be found in the restored object: (root).optimizer._variables.14\n"
     ]
    },
    {
     "name": "stdout",
     "output_type": "stream",
     "text": [
      "WARNING:tensorflow:Value in checkpoint could not be found in the restored object: (root).optimizer._variables.15\n"
     ]
    },
    {
     "name": "stderr",
     "output_type": "stream",
     "text": [
      "WARNING:tensorflow:Value in checkpoint could not be found in the restored object: (root).optimizer._variables.15\n"
     ]
    },
    {
     "name": "stdout",
     "output_type": "stream",
     "text": [
      "WARNING:tensorflow:Value in checkpoint could not be found in the restored object: (root).optimizer._variables.16\n"
     ]
    },
    {
     "name": "stderr",
     "output_type": "stream",
     "text": [
      "WARNING:tensorflow:Value in checkpoint could not be found in the restored object: (root).optimizer._variables.16\n"
     ]
    },
    {
     "name": "stdout",
     "output_type": "stream",
     "text": [
      "WARNING:tensorflow:Value in checkpoint could not be found in the restored object: (root).optimizer._variables.17\n"
     ]
    },
    {
     "name": "stderr",
     "output_type": "stream",
     "text": [
      "WARNING:tensorflow:Value in checkpoint could not be found in the restored object: (root).optimizer._variables.17\n"
     ]
    },
    {
     "name": "stdout",
     "output_type": "stream",
     "text": [
      "WARNING:tensorflow:Value in checkpoint could not be found in the restored object: (root).optimizer._variables.18\n"
     ]
    },
    {
     "name": "stderr",
     "output_type": "stream",
     "text": [
      "WARNING:tensorflow:Value in checkpoint could not be found in the restored object: (root).optimizer._variables.18\n"
     ]
    },
    {
     "name": "stdout",
     "output_type": "stream",
     "text": [
      "WARNING:tensorflow:Value in checkpoint could not be found in the restored object: (root).optimizer._variables.19\n"
     ]
    },
    {
     "name": "stderr",
     "output_type": "stream",
     "text": [
      "WARNING:tensorflow:Value in checkpoint could not be found in the restored object: (root).optimizer._variables.19\n"
     ]
    },
    {
     "name": "stdout",
     "output_type": "stream",
     "text": [
      "WARNING:tensorflow:Value in checkpoint could not be found in the restored object: (root).optimizer._variables.20\n"
     ]
    },
    {
     "name": "stderr",
     "output_type": "stream",
     "text": [
      "WARNING:tensorflow:Value in checkpoint could not be found in the restored object: (root).optimizer._variables.20\n"
     ]
    },
    {
     "name": "stdout",
     "output_type": "stream",
     "text": [
      "WARNING:tensorflow:Value in checkpoint could not be found in the restored object: (root).optimizer._variables.21\n"
     ]
    },
    {
     "name": "stderr",
     "output_type": "stream",
     "text": [
      "WARNING:tensorflow:Value in checkpoint could not be found in the restored object: (root).optimizer._variables.21\n"
     ]
    },
    {
     "name": "stdout",
     "output_type": "stream",
     "text": [
      "WARNING:tensorflow:Value in checkpoint could not be found in the restored object: (root).optimizer._variables.22\n"
     ]
    },
    {
     "name": "stderr",
     "output_type": "stream",
     "text": [
      "WARNING:tensorflow:Value in checkpoint could not be found in the restored object: (root).optimizer._variables.22\n"
     ]
    },
    {
     "name": "stdout",
     "output_type": "stream",
     "text": [
      "WARNING:tensorflow:Value in checkpoint could not be found in the restored object: (root).optimizer._variables.23\n"
     ]
    },
    {
     "name": "stderr",
     "output_type": "stream",
     "text": [
      "WARNING:tensorflow:Value in checkpoint could not be found in the restored object: (root).optimizer._variables.23\n"
     ]
    },
    {
     "name": "stdout",
     "output_type": "stream",
     "text": [
      "WARNING:tensorflow:Value in checkpoint could not be found in the restored object: (root).optimizer._variables.24\n"
     ]
    },
    {
     "name": "stderr",
     "output_type": "stream",
     "text": [
      "WARNING:tensorflow:Value in checkpoint could not be found in the restored object: (root).optimizer._variables.24\n"
     ]
    },
    {
     "name": "stdout",
     "output_type": "stream",
     "text": [
      "WARNING:tensorflow:Value in checkpoint could not be found in the restored object: (root).optimizer._variables.25\n"
     ]
    },
    {
     "name": "stderr",
     "output_type": "stream",
     "text": [
      "WARNING:tensorflow:Value in checkpoint could not be found in the restored object: (root).optimizer._variables.25\n"
     ]
    },
    {
     "name": "stdout",
     "output_type": "stream",
     "text": [
      "WARNING:tensorflow:Value in checkpoint could not be found in the restored object: (root).optimizer._variables.26\n"
     ]
    },
    {
     "name": "stderr",
     "output_type": "stream",
     "text": [
      "WARNING:tensorflow:Value in checkpoint could not be found in the restored object: (root).optimizer._variables.26\n"
     ]
    },
    {
     "name": "stdout",
     "output_type": "stream",
     "text": [
      "WARNING:tensorflow:Value in checkpoint could not be found in the restored object: (root).optimizer._variables.27\n"
     ]
    },
    {
     "name": "stderr",
     "output_type": "stream",
     "text": [
      "WARNING:tensorflow:Value in checkpoint could not be found in the restored object: (root).optimizer._variables.27\n"
     ]
    },
    {
     "name": "stdout",
     "output_type": "stream",
     "text": [
      "WARNING:tensorflow:Value in checkpoint could not be found in the restored object: (root).optimizer._variables.28\n"
     ]
    },
    {
     "name": "stderr",
     "output_type": "stream",
     "text": [
      "WARNING:tensorflow:Value in checkpoint could not be found in the restored object: (root).optimizer._variables.28\n"
     ]
    },
    {
     "name": "stdout",
     "output_type": "stream",
     "text": [
      "WARNING:tensorflow:Value in checkpoint could not be found in the restored object: (root).optimizer._variables.29\n"
     ]
    },
    {
     "name": "stderr",
     "output_type": "stream",
     "text": [
      "WARNING:tensorflow:Value in checkpoint could not be found in the restored object: (root).optimizer._variables.29\n"
     ]
    },
    {
     "name": "stdout",
     "output_type": "stream",
     "text": [
      "WARNING:tensorflow:Value in checkpoint could not be found in the restored object: (root).optimizer._variables.30\n"
     ]
    },
    {
     "name": "stderr",
     "output_type": "stream",
     "text": [
      "WARNING:tensorflow:Value in checkpoint could not be found in the restored object: (root).optimizer._variables.30\n"
     ]
    },
    {
     "name": "stdout",
     "output_type": "stream",
     "text": [
      "WARNING:tensorflow:Value in checkpoint could not be found in the restored object: (root).keras_api.metrics.0.total\n"
     ]
    },
    {
     "name": "stderr",
     "output_type": "stream",
     "text": [
      "WARNING:tensorflow:Value in checkpoint could not be found in the restored object: (root).keras_api.metrics.0.total\n"
     ]
    },
    {
     "name": "stdout",
     "output_type": "stream",
     "text": [
      "WARNING:tensorflow:Value in checkpoint could not be found in the restored object: (root).keras_api.metrics.0.count\n"
     ]
    },
    {
     "name": "stderr",
     "output_type": "stream",
     "text": [
      "WARNING:tensorflow:Value in checkpoint could not be found in the restored object: (root).keras_api.metrics.0.count\n"
     ]
    },
    {
     "name": "stdout",
     "output_type": "stream",
     "text": [
      "WARNING:tensorflow:Value in checkpoint could not be found in the restored object: (root).keras_api.metrics.1.total\n"
     ]
    },
    {
     "name": "stderr",
     "output_type": "stream",
     "text": [
      "WARNING:tensorflow:Value in checkpoint could not be found in the restored object: (root).keras_api.metrics.1.total\n"
     ]
    },
    {
     "name": "stdout",
     "output_type": "stream",
     "text": [
      "WARNING:tensorflow:Value in checkpoint could not be found in the restored object: (root).keras_api.metrics.1.count\n"
     ]
    },
    {
     "name": "stderr",
     "output_type": "stream",
     "text": [
      "WARNING:tensorflow:Value in checkpoint could not be found in the restored object: (root).keras_api.metrics.1.count\n"
     ]
    },
    {
     "name": "stdout",
     "output_type": "stream",
     "text": [
      "WARNING:tensorflow:Detecting that an object or model or tf.train.Checkpoint is being deleted with unrestored values. See the following logs for the specific values in question. To silence these warnings, use `status.expect_partial()`. See https://www.tensorflow.org/api_docs/python/tf/train/Checkpoint#restorefor details about the status object returned by the restore function.\n"
     ]
    },
    {
     "name": "stderr",
     "output_type": "stream",
     "text": [
      "WARNING:tensorflow:Detecting that an object or model or tf.train.Checkpoint is being deleted with unrestored values. See the following logs for the specific values in question. To silence these warnings, use `status.expect_partial()`. See https://www.tensorflow.org/api_docs/python/tf/train/Checkpoint#restorefor details about the status object returned by the restore function.\n"
     ]
    },
    {
     "name": "stdout",
     "output_type": "stream",
     "text": [
      "WARNING:tensorflow:Value in checkpoint could not be found in the restored object: (root).layer_with_weights-3.kernel\n"
     ]
    },
    {
     "name": "stderr",
     "output_type": "stream",
     "text": [
      "WARNING:tensorflow:Value in checkpoint could not be found in the restored object: (root).layer_with_weights-3.kernel\n"
     ]
    },
    {
     "name": "stdout",
     "output_type": "stream",
     "text": [
      "WARNING:tensorflow:Value in checkpoint could not be found in the restored object: (root).layer_with_weights-3.bias\n"
     ]
    },
    {
     "name": "stderr",
     "output_type": "stream",
     "text": [
      "WARNING:tensorflow:Value in checkpoint could not be found in the restored object: (root).layer_with_weights-3.bias\n"
     ]
    },
    {
     "name": "stdout",
     "output_type": "stream",
     "text": [
      "WARNING:tensorflow:Value in checkpoint could not be found in the restored object: (root).layer_with_weights-4.kernel\n"
     ]
    },
    {
     "name": "stderr",
     "output_type": "stream",
     "text": [
      "WARNING:tensorflow:Value in checkpoint could not be found in the restored object: (root).layer_with_weights-4.kernel\n"
     ]
    },
    {
     "name": "stdout",
     "output_type": "stream",
     "text": [
      "WARNING:tensorflow:Value in checkpoint could not be found in the restored object: (root).layer_with_weights-4.bias\n"
     ]
    },
    {
     "name": "stderr",
     "output_type": "stream",
     "text": [
      "WARNING:tensorflow:Value in checkpoint could not be found in the restored object: (root).layer_with_weights-4.bias\n"
     ]
    },
    {
     "name": "stdout",
     "output_type": "stream",
     "text": [
      "WARNING:tensorflow:Value in checkpoint could not be found in the restored object: (root).optimizer._variables.1\n"
     ]
    },
    {
     "name": "stderr",
     "output_type": "stream",
     "text": [
      "WARNING:tensorflow:Value in checkpoint could not be found in the restored object: (root).optimizer._variables.1\n"
     ]
    },
    {
     "name": "stdout",
     "output_type": "stream",
     "text": [
      "WARNING:tensorflow:Value in checkpoint could not be found in the restored object: (root).optimizer._variables.2\n"
     ]
    },
    {
     "name": "stderr",
     "output_type": "stream",
     "text": [
      "WARNING:tensorflow:Value in checkpoint could not be found in the restored object: (root).optimizer._variables.2\n"
     ]
    },
    {
     "name": "stdout",
     "output_type": "stream",
     "text": [
      "WARNING:tensorflow:Value in checkpoint could not be found in the restored object: (root).optimizer._variables.3\n"
     ]
    },
    {
     "name": "stderr",
     "output_type": "stream",
     "text": [
      "WARNING:tensorflow:Value in checkpoint could not be found in the restored object: (root).optimizer._variables.3\n"
     ]
    },
    {
     "name": "stdout",
     "output_type": "stream",
     "text": [
      "WARNING:tensorflow:Value in checkpoint could not be found in the restored object: (root).optimizer._variables.4\n"
     ]
    },
    {
     "name": "stderr",
     "output_type": "stream",
     "text": [
      "WARNING:tensorflow:Value in checkpoint could not be found in the restored object: (root).optimizer._variables.4\n"
     ]
    },
    {
     "name": "stdout",
     "output_type": "stream",
     "text": [
      "WARNING:tensorflow:Value in checkpoint could not be found in the restored object: (root).optimizer._variables.5\n"
     ]
    },
    {
     "name": "stderr",
     "output_type": "stream",
     "text": [
      "WARNING:tensorflow:Value in checkpoint could not be found in the restored object: (root).optimizer._variables.5\n"
     ]
    },
    {
     "name": "stdout",
     "output_type": "stream",
     "text": [
      "WARNING:tensorflow:Value in checkpoint could not be found in the restored object: (root).optimizer._variables.6\n"
     ]
    },
    {
     "name": "stderr",
     "output_type": "stream",
     "text": [
      "WARNING:tensorflow:Value in checkpoint could not be found in the restored object: (root).optimizer._variables.6\n"
     ]
    },
    {
     "name": "stdout",
     "output_type": "stream",
     "text": [
      "WARNING:tensorflow:Value in checkpoint could not be found in the restored object: (root).optimizer._variables.7\n"
     ]
    },
    {
     "name": "stderr",
     "output_type": "stream",
     "text": [
      "WARNING:tensorflow:Value in checkpoint could not be found in the restored object: (root).optimizer._variables.7\n"
     ]
    },
    {
     "name": "stdout",
     "output_type": "stream",
     "text": [
      "WARNING:tensorflow:Value in checkpoint could not be found in the restored object: (root).optimizer._variables.8\n"
     ]
    },
    {
     "name": "stderr",
     "output_type": "stream",
     "text": [
      "WARNING:tensorflow:Value in checkpoint could not be found in the restored object: (root).optimizer._variables.8\n"
     ]
    },
    {
     "name": "stdout",
     "output_type": "stream",
     "text": [
      "WARNING:tensorflow:Value in checkpoint could not be found in the restored object: (root).optimizer._variables.9\n"
     ]
    },
    {
     "name": "stderr",
     "output_type": "stream",
     "text": [
      "WARNING:tensorflow:Value in checkpoint could not be found in the restored object: (root).optimizer._variables.9\n"
     ]
    },
    {
     "name": "stdout",
     "output_type": "stream",
     "text": [
      "WARNING:tensorflow:Value in checkpoint could not be found in the restored object: (root).optimizer._variables.10\n"
     ]
    },
    {
     "name": "stderr",
     "output_type": "stream",
     "text": [
      "WARNING:tensorflow:Value in checkpoint could not be found in the restored object: (root).optimizer._variables.10\n"
     ]
    },
    {
     "name": "stdout",
     "output_type": "stream",
     "text": [
      "WARNING:tensorflow:Value in checkpoint could not be found in the restored object: (root).optimizer._variables.11\n"
     ]
    },
    {
     "name": "stderr",
     "output_type": "stream",
     "text": [
      "WARNING:tensorflow:Value in checkpoint could not be found in the restored object: (root).optimizer._variables.11\n"
     ]
    },
    {
     "name": "stdout",
     "output_type": "stream",
     "text": [
      "WARNING:tensorflow:Value in checkpoint could not be found in the restored object: (root).optimizer._variables.12\n"
     ]
    },
    {
     "name": "stderr",
     "output_type": "stream",
     "text": [
      "WARNING:tensorflow:Value in checkpoint could not be found in the restored object: (root).optimizer._variables.12\n"
     ]
    },
    {
     "name": "stdout",
     "output_type": "stream",
     "text": [
      "WARNING:tensorflow:Value in checkpoint could not be found in the restored object: (root).optimizer._variables.13\n"
     ]
    },
    {
     "name": "stderr",
     "output_type": "stream",
     "text": [
      "WARNING:tensorflow:Value in checkpoint could not be found in the restored object: (root).optimizer._variables.13\n"
     ]
    },
    {
     "name": "stdout",
     "output_type": "stream",
     "text": [
      "WARNING:tensorflow:Value in checkpoint could not be found in the restored object: (root).optimizer._variables.14\n"
     ]
    },
    {
     "name": "stderr",
     "output_type": "stream",
     "text": [
      "WARNING:tensorflow:Value in checkpoint could not be found in the restored object: (root).optimizer._variables.14\n"
     ]
    },
    {
     "name": "stdout",
     "output_type": "stream",
     "text": [
      "WARNING:tensorflow:Value in checkpoint could not be found in the restored object: (root).optimizer._variables.15\n"
     ]
    },
    {
     "name": "stderr",
     "output_type": "stream",
     "text": [
      "WARNING:tensorflow:Value in checkpoint could not be found in the restored object: (root).optimizer._variables.15\n"
     ]
    },
    {
     "name": "stdout",
     "output_type": "stream",
     "text": [
      "WARNING:tensorflow:Value in checkpoint could not be found in the restored object: (root).optimizer._variables.16\n"
     ]
    },
    {
     "name": "stderr",
     "output_type": "stream",
     "text": [
      "WARNING:tensorflow:Value in checkpoint could not be found in the restored object: (root).optimizer._variables.16\n"
     ]
    },
    {
     "name": "stdout",
     "output_type": "stream",
     "text": [
      "WARNING:tensorflow:Value in checkpoint could not be found in the restored object: (root).optimizer._variables.17\n"
     ]
    },
    {
     "name": "stderr",
     "output_type": "stream",
     "text": [
      "WARNING:tensorflow:Value in checkpoint could not be found in the restored object: (root).optimizer._variables.17\n"
     ]
    },
    {
     "name": "stdout",
     "output_type": "stream",
     "text": [
      "WARNING:tensorflow:Value in checkpoint could not be found in the restored object: (root).optimizer._variables.18\n"
     ]
    },
    {
     "name": "stderr",
     "output_type": "stream",
     "text": [
      "WARNING:tensorflow:Value in checkpoint could not be found in the restored object: (root).optimizer._variables.18\n"
     ]
    },
    {
     "name": "stdout",
     "output_type": "stream",
     "text": [
      "WARNING:tensorflow:Value in checkpoint could not be found in the restored object: (root).optimizer._variables.19\n"
     ]
    },
    {
     "name": "stderr",
     "output_type": "stream",
     "text": [
      "WARNING:tensorflow:Value in checkpoint could not be found in the restored object: (root).optimizer._variables.19\n"
     ]
    },
    {
     "name": "stdout",
     "output_type": "stream",
     "text": [
      "WARNING:tensorflow:Value in checkpoint could not be found in the restored object: (root).optimizer._variables.20\n"
     ]
    },
    {
     "name": "stderr",
     "output_type": "stream",
     "text": [
      "WARNING:tensorflow:Value in checkpoint could not be found in the restored object: (root).optimizer._variables.20\n"
     ]
    },
    {
     "name": "stdout",
     "output_type": "stream",
     "text": [
      "WARNING:tensorflow:Value in checkpoint could not be found in the restored object: (root).optimizer._variables.21\n"
     ]
    },
    {
     "name": "stderr",
     "output_type": "stream",
     "text": [
      "WARNING:tensorflow:Value in checkpoint could not be found in the restored object: (root).optimizer._variables.21\n"
     ]
    },
    {
     "name": "stdout",
     "output_type": "stream",
     "text": [
      "WARNING:tensorflow:Value in checkpoint could not be found in the restored object: (root).optimizer._variables.22\n"
     ]
    },
    {
     "name": "stderr",
     "output_type": "stream",
     "text": [
      "WARNING:tensorflow:Value in checkpoint could not be found in the restored object: (root).optimizer._variables.22\n"
     ]
    },
    {
     "name": "stdout",
     "output_type": "stream",
     "text": [
      "WARNING:tensorflow:Value in checkpoint could not be found in the restored object: (root).optimizer._variables.23\n"
     ]
    },
    {
     "name": "stderr",
     "output_type": "stream",
     "text": [
      "WARNING:tensorflow:Value in checkpoint could not be found in the restored object: (root).optimizer._variables.23\n"
     ]
    },
    {
     "name": "stdout",
     "output_type": "stream",
     "text": [
      "WARNING:tensorflow:Value in checkpoint could not be found in the restored object: (root).optimizer._variables.24\n"
     ]
    },
    {
     "name": "stderr",
     "output_type": "stream",
     "text": [
      "WARNING:tensorflow:Value in checkpoint could not be found in the restored object: (root).optimizer._variables.24\n"
     ]
    },
    {
     "name": "stdout",
     "output_type": "stream",
     "text": [
      "WARNING:tensorflow:Value in checkpoint could not be found in the restored object: (root).optimizer._variables.25\n"
     ]
    },
    {
     "name": "stderr",
     "output_type": "stream",
     "text": [
      "WARNING:tensorflow:Value in checkpoint could not be found in the restored object: (root).optimizer._variables.25\n"
     ]
    },
    {
     "name": "stdout",
     "output_type": "stream",
     "text": [
      "WARNING:tensorflow:Value in checkpoint could not be found in the restored object: (root).optimizer._variables.26\n"
     ]
    },
    {
     "name": "stderr",
     "output_type": "stream",
     "text": [
      "WARNING:tensorflow:Value in checkpoint could not be found in the restored object: (root).optimizer._variables.26\n"
     ]
    },
    {
     "name": "stdout",
     "output_type": "stream",
     "text": [
      "WARNING:tensorflow:Value in checkpoint could not be found in the restored object: (root).optimizer._variables.27\n"
     ]
    },
    {
     "name": "stderr",
     "output_type": "stream",
     "text": [
      "WARNING:tensorflow:Value in checkpoint could not be found in the restored object: (root).optimizer._variables.27\n"
     ]
    },
    {
     "name": "stdout",
     "output_type": "stream",
     "text": [
      "WARNING:tensorflow:Value in checkpoint could not be found in the restored object: (root).optimizer._variables.28\n"
     ]
    },
    {
     "name": "stderr",
     "output_type": "stream",
     "text": [
      "WARNING:tensorflow:Value in checkpoint could not be found in the restored object: (root).optimizer._variables.28\n"
     ]
    },
    {
     "name": "stdout",
     "output_type": "stream",
     "text": [
      "WARNING:tensorflow:Value in checkpoint could not be found in the restored object: (root).optimizer._variables.29\n"
     ]
    },
    {
     "name": "stderr",
     "output_type": "stream",
     "text": [
      "WARNING:tensorflow:Value in checkpoint could not be found in the restored object: (root).optimizer._variables.29\n"
     ]
    },
    {
     "name": "stdout",
     "output_type": "stream",
     "text": [
      "WARNING:tensorflow:Value in checkpoint could not be found in the restored object: (root).optimizer._variables.30\n"
     ]
    },
    {
     "name": "stderr",
     "output_type": "stream",
     "text": [
      "WARNING:tensorflow:Value in checkpoint could not be found in the restored object: (root).optimizer._variables.30\n"
     ]
    },
    {
     "name": "stdout",
     "output_type": "stream",
     "text": [
      "WARNING:tensorflow:Value in checkpoint could not be found in the restored object: (root).keras_api.metrics.0.total\n"
     ]
    },
    {
     "name": "stderr",
     "output_type": "stream",
     "text": [
      "WARNING:tensorflow:Value in checkpoint could not be found in the restored object: (root).keras_api.metrics.0.total\n"
     ]
    },
    {
     "name": "stdout",
     "output_type": "stream",
     "text": [
      "WARNING:tensorflow:Value in checkpoint could not be found in the restored object: (root).keras_api.metrics.0.count\n"
     ]
    },
    {
     "name": "stderr",
     "output_type": "stream",
     "text": [
      "WARNING:tensorflow:Value in checkpoint could not be found in the restored object: (root).keras_api.metrics.0.count\n"
     ]
    },
    {
     "name": "stdout",
     "output_type": "stream",
     "text": [
      "WARNING:tensorflow:Value in checkpoint could not be found in the restored object: (root).keras_api.metrics.1.total\n"
     ]
    },
    {
     "name": "stderr",
     "output_type": "stream",
     "text": [
      "WARNING:tensorflow:Value in checkpoint could not be found in the restored object: (root).keras_api.metrics.1.total\n"
     ]
    },
    {
     "name": "stdout",
     "output_type": "stream",
     "text": [
      "WARNING:tensorflow:Value in checkpoint could not be found in the restored object: (root).keras_api.metrics.1.count\n"
     ]
    },
    {
     "name": "stderr",
     "output_type": "stream",
     "text": [
      "WARNING:tensorflow:Value in checkpoint could not be found in the restored object: (root).keras_api.metrics.1.count\n"
     ]
    },
    {
     "name": "stdout",
     "output_type": "stream",
     "text": [
      "WARNING:tensorflow:Detecting that an object or model or tf.train.Checkpoint is being deleted with unrestored values. See the following logs for the specific values in question. To silence these warnings, use `status.expect_partial()`. See https://www.tensorflow.org/api_docs/python/tf/train/Checkpoint#restorefor details about the status object returned by the restore function.\n"
     ]
    },
    {
     "name": "stderr",
     "output_type": "stream",
     "text": [
      "WARNING:tensorflow:Detecting that an object or model or tf.train.Checkpoint is being deleted with unrestored values. See the following logs for the specific values in question. To silence these warnings, use `status.expect_partial()`. See https://www.tensorflow.org/api_docs/python/tf/train/Checkpoint#restorefor details about the status object returned by the restore function.\n"
     ]
    },
    {
     "name": "stdout",
     "output_type": "stream",
     "text": [
      "WARNING:tensorflow:Value in checkpoint could not be found in the restored object: (root).optimizer._variables.1\n"
     ]
    },
    {
     "name": "stderr",
     "output_type": "stream",
     "text": [
      "WARNING:tensorflow:Value in checkpoint could not be found in the restored object: (root).optimizer._variables.1\n"
     ]
    },
    {
     "name": "stdout",
     "output_type": "stream",
     "text": [
      "WARNING:tensorflow:Value in checkpoint could not be found in the restored object: (root).optimizer._variables.2\n"
     ]
    },
    {
     "name": "stderr",
     "output_type": "stream",
     "text": [
      "WARNING:tensorflow:Value in checkpoint could not be found in the restored object: (root).optimizer._variables.2\n"
     ]
    },
    {
     "name": "stdout",
     "output_type": "stream",
     "text": [
      "WARNING:tensorflow:Value in checkpoint could not be found in the restored object: (root).optimizer._variables.3\n"
     ]
    },
    {
     "name": "stderr",
     "output_type": "stream",
     "text": [
      "WARNING:tensorflow:Value in checkpoint could not be found in the restored object: (root).optimizer._variables.3\n"
     ]
    },
    {
     "name": "stdout",
     "output_type": "stream",
     "text": [
      "WARNING:tensorflow:Value in checkpoint could not be found in the restored object: (root).optimizer._variables.4\n"
     ]
    },
    {
     "name": "stderr",
     "output_type": "stream",
     "text": [
      "WARNING:tensorflow:Value in checkpoint could not be found in the restored object: (root).optimizer._variables.4\n"
     ]
    },
    {
     "name": "stdout",
     "output_type": "stream",
     "text": [
      "WARNING:tensorflow:Value in checkpoint could not be found in the restored object: (root).optimizer._variables.5\n"
     ]
    },
    {
     "name": "stderr",
     "output_type": "stream",
     "text": [
      "WARNING:tensorflow:Value in checkpoint could not be found in the restored object: (root).optimizer._variables.5\n"
     ]
    },
    {
     "name": "stdout",
     "output_type": "stream",
     "text": [
      "WARNING:tensorflow:Value in checkpoint could not be found in the restored object: (root).optimizer._variables.6\n"
     ]
    },
    {
     "name": "stderr",
     "output_type": "stream",
     "text": [
      "WARNING:tensorflow:Value in checkpoint could not be found in the restored object: (root).optimizer._variables.6\n"
     ]
    },
    {
     "name": "stdout",
     "output_type": "stream",
     "text": [
      "WARNING:tensorflow:Value in checkpoint could not be found in the restored object: (root).optimizer._variables.7\n"
     ]
    },
    {
     "name": "stderr",
     "output_type": "stream",
     "text": [
      "WARNING:tensorflow:Value in checkpoint could not be found in the restored object: (root).optimizer._variables.7\n"
     ]
    },
    {
     "name": "stdout",
     "output_type": "stream",
     "text": [
      "WARNING:tensorflow:Value in checkpoint could not be found in the restored object: (root).optimizer._variables.8\n"
     ]
    },
    {
     "name": "stderr",
     "output_type": "stream",
     "text": [
      "WARNING:tensorflow:Value in checkpoint could not be found in the restored object: (root).optimizer._variables.8\n"
     ]
    },
    {
     "name": "stdout",
     "output_type": "stream",
     "text": [
      "WARNING:tensorflow:Value in checkpoint could not be found in the restored object: (root).optimizer._variables.9\n"
     ]
    },
    {
     "name": "stderr",
     "output_type": "stream",
     "text": [
      "WARNING:tensorflow:Value in checkpoint could not be found in the restored object: (root).optimizer._variables.9\n"
     ]
    },
    {
     "name": "stdout",
     "output_type": "stream",
     "text": [
      "WARNING:tensorflow:Value in checkpoint could not be found in the restored object: (root).optimizer._variables.10\n"
     ]
    },
    {
     "name": "stderr",
     "output_type": "stream",
     "text": [
      "WARNING:tensorflow:Value in checkpoint could not be found in the restored object: (root).optimizer._variables.10\n"
     ]
    },
    {
     "name": "stdout",
     "output_type": "stream",
     "text": [
      "WARNING:tensorflow:Value in checkpoint could not be found in the restored object: (root).optimizer._variables.11\n"
     ]
    },
    {
     "name": "stderr",
     "output_type": "stream",
     "text": [
      "WARNING:tensorflow:Value in checkpoint could not be found in the restored object: (root).optimizer._variables.11\n"
     ]
    },
    {
     "name": "stdout",
     "output_type": "stream",
     "text": [
      "WARNING:tensorflow:Value in checkpoint could not be found in the restored object: (root).optimizer._variables.12\n"
     ]
    },
    {
     "name": "stderr",
     "output_type": "stream",
     "text": [
      "WARNING:tensorflow:Value in checkpoint could not be found in the restored object: (root).optimizer._variables.12\n"
     ]
    },
    {
     "name": "stdout",
     "output_type": "stream",
     "text": [
      "WARNING:tensorflow:Value in checkpoint could not be found in the restored object: (root).optimizer._variables.13\n"
     ]
    },
    {
     "name": "stderr",
     "output_type": "stream",
     "text": [
      "WARNING:tensorflow:Value in checkpoint could not be found in the restored object: (root).optimizer._variables.13\n"
     ]
    },
    {
     "name": "stdout",
     "output_type": "stream",
     "text": [
      "WARNING:tensorflow:Value in checkpoint could not be found in the restored object: (root).optimizer._variables.14\n"
     ]
    },
    {
     "name": "stderr",
     "output_type": "stream",
     "text": [
      "WARNING:tensorflow:Value in checkpoint could not be found in the restored object: (root).optimizer._variables.14\n"
     ]
    },
    {
     "name": "stdout",
     "output_type": "stream",
     "text": [
      "WARNING:tensorflow:Value in checkpoint could not be found in the restored object: (root).optimizer._variables.15\n"
     ]
    },
    {
     "name": "stderr",
     "output_type": "stream",
     "text": [
      "WARNING:tensorflow:Value in checkpoint could not be found in the restored object: (root).optimizer._variables.15\n"
     ]
    },
    {
     "name": "stdout",
     "output_type": "stream",
     "text": [
      "WARNING:tensorflow:Value in checkpoint could not be found in the restored object: (root).optimizer._variables.16\n"
     ]
    },
    {
     "name": "stderr",
     "output_type": "stream",
     "text": [
      "WARNING:tensorflow:Value in checkpoint could not be found in the restored object: (root).optimizer._variables.16\n"
     ]
    },
    {
     "name": "stdout",
     "output_type": "stream",
     "text": [
      "WARNING:tensorflow:Value in checkpoint could not be found in the restored object: (root).optimizer._variables.17\n"
     ]
    },
    {
     "name": "stderr",
     "output_type": "stream",
     "text": [
      "WARNING:tensorflow:Value in checkpoint could not be found in the restored object: (root).optimizer._variables.17\n"
     ]
    },
    {
     "name": "stdout",
     "output_type": "stream",
     "text": [
      "WARNING:tensorflow:Value in checkpoint could not be found in the restored object: (root).optimizer._variables.18\n"
     ]
    },
    {
     "name": "stderr",
     "output_type": "stream",
     "text": [
      "WARNING:tensorflow:Value in checkpoint could not be found in the restored object: (root).optimizer._variables.18\n"
     ]
    },
    {
     "name": "stdout",
     "output_type": "stream",
     "text": [
      "WARNING:tensorflow:Value in checkpoint could not be found in the restored object: (root).optimizer._variables.19\n"
     ]
    },
    {
     "name": "stderr",
     "output_type": "stream",
     "text": [
      "WARNING:tensorflow:Value in checkpoint could not be found in the restored object: (root).optimizer._variables.19\n"
     ]
    },
    {
     "name": "stdout",
     "output_type": "stream",
     "text": [
      "WARNING:tensorflow:Value in checkpoint could not be found in the restored object: (root).optimizer._variables.20\n"
     ]
    },
    {
     "name": "stderr",
     "output_type": "stream",
     "text": [
      "WARNING:tensorflow:Value in checkpoint could not be found in the restored object: (root).optimizer._variables.20\n"
     ]
    },
    {
     "name": "stdout",
     "output_type": "stream",
     "text": [
      "WARNING:tensorflow:Value in checkpoint could not be found in the restored object: (root).optimizer._variables.21\n"
     ]
    },
    {
     "name": "stderr",
     "output_type": "stream",
     "text": [
      "WARNING:tensorflow:Value in checkpoint could not be found in the restored object: (root).optimizer._variables.21\n"
     ]
    },
    {
     "name": "stdout",
     "output_type": "stream",
     "text": [
      "WARNING:tensorflow:Value in checkpoint could not be found in the restored object: (root).optimizer._variables.22\n"
     ]
    },
    {
     "name": "stderr",
     "output_type": "stream",
     "text": [
      "WARNING:tensorflow:Value in checkpoint could not be found in the restored object: (root).optimizer._variables.22\n"
     ]
    },
    {
     "name": "stdout",
     "output_type": "stream",
     "text": [
      "WARNING:tensorflow:Value in checkpoint could not be found in the restored object: (root).optimizer._variables.23\n"
     ]
    },
    {
     "name": "stderr",
     "output_type": "stream",
     "text": [
      "WARNING:tensorflow:Value in checkpoint could not be found in the restored object: (root).optimizer._variables.23\n"
     ]
    },
    {
     "name": "stdout",
     "output_type": "stream",
     "text": [
      "WARNING:tensorflow:Value in checkpoint could not be found in the restored object: (root).optimizer._variables.24\n"
     ]
    },
    {
     "name": "stderr",
     "output_type": "stream",
     "text": [
      "WARNING:tensorflow:Value in checkpoint could not be found in the restored object: (root).optimizer._variables.24\n"
     ]
    },
    {
     "name": "stdout",
     "output_type": "stream",
     "text": [
      "WARNING:tensorflow:Value in checkpoint could not be found in the restored object: (root).optimizer._variables.25\n"
     ]
    },
    {
     "name": "stderr",
     "output_type": "stream",
     "text": [
      "WARNING:tensorflow:Value in checkpoint could not be found in the restored object: (root).optimizer._variables.25\n"
     ]
    },
    {
     "name": "stdout",
     "output_type": "stream",
     "text": [
      "WARNING:tensorflow:Value in checkpoint could not be found in the restored object: (root).optimizer._variables.26\n"
     ]
    },
    {
     "name": "stderr",
     "output_type": "stream",
     "text": [
      "WARNING:tensorflow:Value in checkpoint could not be found in the restored object: (root).optimizer._variables.26\n"
     ]
    },
    {
     "name": "stdout",
     "output_type": "stream",
     "text": [
      "WARNING:tensorflow:Value in checkpoint could not be found in the restored object: (root).optimizer._variables.27\n"
     ]
    },
    {
     "name": "stderr",
     "output_type": "stream",
     "text": [
      "WARNING:tensorflow:Value in checkpoint could not be found in the restored object: (root).optimizer._variables.27\n"
     ]
    },
    {
     "name": "stdout",
     "output_type": "stream",
     "text": [
      "WARNING:tensorflow:Value in checkpoint could not be found in the restored object: (root).optimizer._variables.28\n"
     ]
    },
    {
     "name": "stderr",
     "output_type": "stream",
     "text": [
      "WARNING:tensorflow:Value in checkpoint could not be found in the restored object: (root).optimizer._variables.28\n"
     ]
    },
    {
     "name": "stdout",
     "output_type": "stream",
     "text": [
      "WARNING:tensorflow:Value in checkpoint could not be found in the restored object: (root).optimizer._variables.29\n"
     ]
    },
    {
     "name": "stderr",
     "output_type": "stream",
     "text": [
      "WARNING:tensorflow:Value in checkpoint could not be found in the restored object: (root).optimizer._variables.29\n"
     ]
    },
    {
     "name": "stdout",
     "output_type": "stream",
     "text": [
      "WARNING:tensorflow:Value in checkpoint could not be found in the restored object: (root).optimizer._variables.30\n"
     ]
    },
    {
     "name": "stderr",
     "output_type": "stream",
     "text": [
      "WARNING:tensorflow:Value in checkpoint could not be found in the restored object: (root).optimizer._variables.30\n"
     ]
    },
    {
     "name": "stdout",
     "output_type": "stream",
     "text": [
      "WARNING:tensorflow:Value in checkpoint could not be found in the restored object: (root).optimizer._variables.31\n"
     ]
    },
    {
     "name": "stderr",
     "output_type": "stream",
     "text": [
      "WARNING:tensorflow:Value in checkpoint could not be found in the restored object: (root).optimizer._variables.31\n"
     ]
    },
    {
     "name": "stdout",
     "output_type": "stream",
     "text": [
      "WARNING:tensorflow:Value in checkpoint could not be found in the restored object: (root).optimizer._variables.32\n"
     ]
    },
    {
     "name": "stderr",
     "output_type": "stream",
     "text": [
      "WARNING:tensorflow:Value in checkpoint could not be found in the restored object: (root).optimizer._variables.32\n"
     ]
    },
    {
     "name": "stdout",
     "output_type": "stream",
     "text": [
      "WARNING:tensorflow:Value in checkpoint could not be found in the restored object: (root).optimizer._variables.33\n"
     ]
    },
    {
     "name": "stderr",
     "output_type": "stream",
     "text": [
      "WARNING:tensorflow:Value in checkpoint could not be found in the restored object: (root).optimizer._variables.33\n"
     ]
    },
    {
     "name": "stdout",
     "output_type": "stream",
     "text": [
      "WARNING:tensorflow:Value in checkpoint could not be found in the restored object: (root).optimizer._variables.34\n"
     ]
    },
    {
     "name": "stderr",
     "output_type": "stream",
     "text": [
      "WARNING:tensorflow:Value in checkpoint could not be found in the restored object: (root).optimizer._variables.34\n"
     ]
    },
    {
     "name": "stdout",
     "output_type": "stream",
     "text": [
      "WARNING:tensorflow:Value in checkpoint could not be found in the restored object: (root).optimizer._variables.35\n"
     ]
    },
    {
     "name": "stderr",
     "output_type": "stream",
     "text": [
      "WARNING:tensorflow:Value in checkpoint could not be found in the restored object: (root).optimizer._variables.35\n"
     ]
    },
    {
     "name": "stdout",
     "output_type": "stream",
     "text": [
      "WARNING:tensorflow:Value in checkpoint could not be found in the restored object: (root).optimizer._variables.36\n"
     ]
    },
    {
     "name": "stderr",
     "output_type": "stream",
     "text": [
      "WARNING:tensorflow:Value in checkpoint could not be found in the restored object: (root).optimizer._variables.36\n"
     ]
    },
    {
     "name": "stdout",
     "output_type": "stream",
     "text": [
      "WARNING:tensorflow:Value in checkpoint could not be found in the restored object: (root).optimizer._variables.37\n"
     ]
    },
    {
     "name": "stderr",
     "output_type": "stream",
     "text": [
      "WARNING:tensorflow:Value in checkpoint could not be found in the restored object: (root).optimizer._variables.37\n"
     ]
    },
    {
     "name": "stdout",
     "output_type": "stream",
     "text": [
      "WARNING:tensorflow:Value in checkpoint could not be found in the restored object: (root).optimizer._variables.38\n"
     ]
    },
    {
     "name": "stderr",
     "output_type": "stream",
     "text": [
      "WARNING:tensorflow:Value in checkpoint could not be found in the restored object: (root).optimizer._variables.38\n"
     ]
    },
    {
     "name": "stdout",
     "output_type": "stream",
     "text": [
      "WARNING:tensorflow:Value in checkpoint could not be found in the restored object: (root).optimizer._variables.39\n"
     ]
    },
    {
     "name": "stderr",
     "output_type": "stream",
     "text": [
      "WARNING:tensorflow:Value in checkpoint could not be found in the restored object: (root).optimizer._variables.39\n"
     ]
    },
    {
     "name": "stdout",
     "output_type": "stream",
     "text": [
      "WARNING:tensorflow:Value in checkpoint could not be found in the restored object: (root).optimizer._variables.40\n"
     ]
    },
    {
     "name": "stderr",
     "output_type": "stream",
     "text": [
      "WARNING:tensorflow:Value in checkpoint could not be found in the restored object: (root).optimizer._variables.40\n"
     ]
    },
    {
     "name": "stdout",
     "output_type": "stream",
     "text": [
      "WARNING:tensorflow:Value in checkpoint could not be found in the restored object: (root).optimizer._variables.41\n"
     ]
    },
    {
     "name": "stderr",
     "output_type": "stream",
     "text": [
      "WARNING:tensorflow:Value in checkpoint could not be found in the restored object: (root).optimizer._variables.41\n"
     ]
    },
    {
     "name": "stdout",
     "output_type": "stream",
     "text": [
      "WARNING:tensorflow:Value in checkpoint could not be found in the restored object: (root).optimizer._variables.42\n"
     ]
    },
    {
     "name": "stderr",
     "output_type": "stream",
     "text": [
      "WARNING:tensorflow:Value in checkpoint could not be found in the restored object: (root).optimizer._variables.42\n"
     ]
    },
    {
     "name": "stdout",
     "output_type": "stream",
     "text": [
      "WARNING:tensorflow:Value in checkpoint could not be found in the restored object: (root).keras_api.metrics.0.total\n"
     ]
    },
    {
     "name": "stderr",
     "output_type": "stream",
     "text": [
      "WARNING:tensorflow:Value in checkpoint could not be found in the restored object: (root).keras_api.metrics.0.total\n"
     ]
    },
    {
     "name": "stdout",
     "output_type": "stream",
     "text": [
      "WARNING:tensorflow:Value in checkpoint could not be found in the restored object: (root).keras_api.metrics.0.count\n"
     ]
    },
    {
     "name": "stderr",
     "output_type": "stream",
     "text": [
      "WARNING:tensorflow:Value in checkpoint could not be found in the restored object: (root).keras_api.metrics.0.count\n"
     ]
    },
    {
     "name": "stdout",
     "output_type": "stream",
     "text": [
      "WARNING:tensorflow:Value in checkpoint could not be found in the restored object: (root).keras_api.metrics.1.total\n"
     ]
    },
    {
     "name": "stderr",
     "output_type": "stream",
     "text": [
      "WARNING:tensorflow:Value in checkpoint could not be found in the restored object: (root).keras_api.metrics.1.total\n"
     ]
    },
    {
     "name": "stdout",
     "output_type": "stream",
     "text": [
      "WARNING:tensorflow:Value in checkpoint could not be found in the restored object: (root).keras_api.metrics.1.count\n"
     ]
    },
    {
     "name": "stderr",
     "output_type": "stream",
     "text": [
      "WARNING:tensorflow:Value in checkpoint could not be found in the restored object: (root).keras_api.metrics.1.count\n"
     ]
    },
    {
     "name": "stdout",
     "output_type": "stream",
     "text": [
      "1/1 [==============================] - 0s 30ms/step\n",
      "hobi\n",
      "1/1 [==============================] - 0s 34ms/step\n",
      "hobi\n",
      "1/1 [==============================] - 0s 36ms/step\n",
      "hobi\n",
      "1/1 [==============================] - 0s 25ms/step\n",
      "hobi\n",
      "1/1 [==============================] - 0s 35ms/step\n",
      "hobi\n",
      "1/1 [==============================] - 0s 35ms/step\n",
      "hobi\n",
      "1/1 [==============================] - 0s 26ms/step\n",
      "hobi\n",
      "1/1 [==============================] - 0s 29ms/step\n",
      "hobi\n",
      "1/1 [==============================] - 0s 28ms/step\n",
      "hobi\n",
      "1/1 [==============================] - 0s 36ms/step\n",
      "hobi\n",
      "1/1 [==============================] - 0s 38ms/step\n",
      "hobi\n",
      "1/1 [==============================] - 0s 27ms/step\n",
      "hobi\n",
      "1/1 [==============================] - 0s 25ms/step\n",
      "baca\n",
      "1/1 [==============================] - 0s 36ms/step\n",
      "baca\n",
      "1/1 [==============================] - 0s 31ms/step\n",
      "baca\n",
      "1/1 [==============================] - 0s 39ms/step\n",
      "baca\n",
      "1/1 [==============================] - 0s 32ms/step\n",
      "baca\n",
      "1/1 [==============================] - 0s 28ms/step\n",
      "baca\n",
      "1/1 [==============================] - 0s 35ms/step\n",
      "baca\n",
      "1/1 [==============================] - 0s 40ms/step\n",
      "baca\n",
      "1/1 [==============================] - 0s 30ms/step\n",
      "baca\n",
      "1/1 [==============================] - 0s 39ms/step\n",
      "baca\n",
      "1/1 [==============================] - 0s 28ms/step\n",
      "baca\n",
      "1/1 [==============================] - 0s 14ms/step\n",
      "baca\n",
      "1/1 [==============================] - 0s 30ms/step\n",
      "baca\n",
      "1/1 [==============================] - 0s 29ms/step\n",
      "baca\n",
      "1/1 [==============================] - 0s 29ms/step\n",
      "baca\n",
      "1/1 [==============================] - 0s 37ms/step\n",
      "baca\n",
      "1/1 [==============================] - 0s 36ms/step\n",
      "baca\n",
      "1/1 [==============================] - 0s 25ms/step\n",
      "baca\n",
      "1/1 [==============================] - 0s 42ms/step\n",
      "aku\n",
      "1/1 [==============================] - 0s 35ms/step\n",
      "aku\n",
      "1/1 [==============================] - 0s 28ms/step\n",
      "aku\n",
      "1/1 [==============================] - 0s 34ms/step\n",
      "aku\n",
      "1/1 [==============================] - 0s 34ms/step\n",
      "aku\n",
      "1/1 [==============================] - 0s 25ms/step\n",
      "baca\n",
      "1/1 [==============================] - 0s 30ms/step\n",
      "baca\n",
      "1/1 [==============================] - 0s 27ms/step\n",
      "baca\n",
      "1/1 [==============================] - 0s 43ms/step\n",
      "baca\n",
      "1/1 [==============================] - 0s 31ms/step\n",
      "baca\n",
      "1/1 [==============================] - 0s 26ms/step\n",
      "terimakasih\n",
      "1/1 [==============================] - 0s 30ms/step\n",
      "terimakasih\n",
      "1/1 [==============================] - 0s 27ms/step\n",
      "terimakasih\n",
      "1/1 [==============================] - 0s 23ms/step\n",
      "terimakasih\n",
      "1/1 [==============================] - 0s 32ms/step\n",
      "terimakasih\n",
      "1/1 [==============================] - 0s 33ms/step\n",
      "terimakasih\n",
      "1/1 [==============================] - 0s 27ms/step\n",
      "terimakasih\n",
      "1/1 [==============================] - 0s 28ms/step\n",
      "terimakasih\n",
      "1/1 [==============================] - 0s 29ms/step\n",
      "terimakasih\n",
      "1/1 [==============================] - 0s 33ms/step\n",
      "terimakasih\n",
      "1/1 [==============================] - 0s 42ms/step\n",
      "terimakasih\n",
      "1/1 [==============================] - 0s 35ms/step\n",
      "terimakasih\n"
     ]
    }
   ],
   "source": [
    "# sequence for collect 30 frames\n",
    "sequence = []\n",
    "# keep all the words\n",
    "sentence = []\n",
    "predictions = []\n",
    "thres = 0.8\n",
    "cap = cv2.VideoCapture(0)\n",
    "with mp_model.Holistic(min_detection_confidence=0.5, min_tracking_confidence=0.5) as model:\n",
    "    while cap.isOpened():\n",
    "        ret, frame = cap.read()\n",
    "        # make detection\n",
    "        image, results = mediapipe_detection(frame, model)\n",
    "        # draw landmarks to image based on the result\n",
    "        draw_with_style(image, results)\n",
    "        # predict\n",
    "        keypoints = get_points(results)\n",
    "        sequence.append(keypoints)\n",
    "        sequence = sequence[-30:]\n",
    "        if len(sequence) == 30:\n",
    "            res = model_train.predict(np.expand_dims(sequence, axis=0))[0]\n",
    "            print(signs[np.argmax(res)])\n",
    "            predictions.append(np.argmax(res))\n",
    "            \n",
    "            if np.unique(predictions[-10:])[0] == np.argmax(res):\n",
    "                # show to our screen (frame name, frame)\n",
    "                if res[np.argmax(res)] > thres:\n",
    "                    if len(sentence) > 0:\n",
    "                        # if the sentence is not empty \n",
    "                        # AND\n",
    "                        # if our current predicted word is not the same as\n",
    "                        # the word that are predicted right before now\n",
    "                        # then append current word\n",
    "                        if signs[np.argmax(res)] != sentence[-1]:\n",
    "                            sentence.append(signs[np.argmax(res)])\n",
    "                            speak(signs[np.argmax(res)])\n",
    "                    else:\n",
    "                        # if sentence is empty, append word\n",
    "                        sentence.append(signs[np.argmax(res)])\n",
    "                        speak(signs[np.argmax(res)])\n",
    "\n",
    "            if len(sentence) > 5:\n",
    "                sentence = sentence[-5:]\n",
    "            \n",
    "            # visualization with probability of each word\n",
    "            image = prob_viz(res, signs, image, colors)\n",
    "\n",
    "        cv2.rectangle(image, (0,0), (640, 40), (245, 117, 16), -1)\n",
    "        cv2.putText(image, ' '.join(sentence), (3, 30), cv2.FONT_HERSHEY_SIMPLEX, 1,\n",
    "                   (255, 255, 255), 2, cv2.LINE_AA)\n",
    "\n",
    "        # show to screen\n",
    "        cv2.imshow('OpenCV frame', image)\n",
    "        # Break using 'q'\n",
    "        if cv2.waitKey(10) & 0xFF == ord('q'):\n",
    "            break\n",
    "    # release our webcam\n",
    "    cap.release()\n",
    "    # close the frame\n",
    "    cv2.destroyAllWindows()"
   ]
  }
 ],
 "metadata": {
  "kernelspec": {
   "display_name": "py38",
   "language": "python",
   "name": "py38"
  },
  "language_info": {
   "codemirror_mode": {
    "name": "ipython",
    "version": 3
   },
   "file_extension": ".py",
   "mimetype": "text/x-python",
   "name": "python",
   "nbconvert_exporter": "python",
   "pygments_lexer": "ipython3",
   "version": "3.8.18"
  }
 },
 "nbformat": 4,
 "nbformat_minor": 5
}
